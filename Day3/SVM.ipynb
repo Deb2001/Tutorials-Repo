{
  "nbformat": 4,
  "nbformat_minor": 0,
  "metadata": {
    "colab": {
      "name": "SVM.ipynb",
      "provenance": [],
      "collapsed_sections": []
    },
    "kernelspec": {
      "name": "python3",
      "display_name": "Python 3"
    }
  },
  "cells": [
    {
      "cell_type": "markdown",
      "metadata": {
        "id": "MhdidqPPrLrq",
        "colab_type": "text"
      },
      "source": [
        "IMPORTING THE NECESSARY LIBRARIES"
      ]
    },
    {
      "cell_type": "code",
      "metadata": {
        "id": "7GJg5v-tA7wR",
        "colab_type": "code",
        "colab": {}
      },
      "source": [
        "import numpy as np\n",
        "import pandas as pd\n",
        "import matplotlib.pyplot as plt\n",
        "import seaborn as sns\n",
        "from sklearn import datasets\n",
        "%matplotlib inline\n",
        "from sklearn.utils import shuffle\n",
        "from sklearn import svm\n",
        "from sklearn.metrics import accuracy_score"
      ],
      "execution_count": 0,
      "outputs": []
    },
    {
      "cell_type": "markdown",
      "metadata": {
        "id": "jMOd6_R6raL6",
        "colab_type": "text"
      },
      "source": [
        "IMPORTING AND HAVING A LOOK INTO THE DATA"
      ]
    },
    {
      "cell_type": "code",
      "metadata": {
        "id": "2dd8fIKOCkBb",
        "colab_type": "code",
<<<<<<< HEAD
        "outputId": "6e5da144-67a4-4f39-d0c1-7459a41e6933",
        "colab": {
          "base_uri": "https://localhost:8080/",
          "height": 206
=======
        "outputId": "4cd8b1a0-c878-4005-a528-f9b38b561fc5",
        "colab": {
          "base_uri": "https://localhost:8080/",
          "height": 204
>>>>>>> 64b7232506b476033b3fc763e74fcc2da2e15848
        }
      },
      "source": [
        "data = \"http://archive.ics.uci.edu/ml/machine-learning-databases/balance-scale/balance-scale.data\"\n",
        "columns = [\"class\", \"leftweight\", \"leftdistance\", \"rightweight\", \"rightdistance\"]\n",
        "df_balance = pd.read_csv(data)\n",
        "df_balance.columns = columns\n",
        "df_balance.head()"
      ],
<<<<<<< HEAD
      "execution_count": 2,
=======
      "execution_count": 18,
>>>>>>> 64b7232506b476033b3fc763e74fcc2da2e15848
      "outputs": [
        {
          "output_type": "execute_result",
          "data": {
            "text/html": [
              "<div>\n",
              "<style scoped>\n",
              "    .dataframe tbody tr th:only-of-type {\n",
              "        vertical-align: middle;\n",
              "    }\n",
              "\n",
              "    .dataframe tbody tr th {\n",
              "        vertical-align: top;\n",
              "    }\n",
              "\n",
              "    .dataframe thead th {\n",
              "        text-align: right;\n",
              "    }\n",
              "</style>\n",
              "<table border=\"1\" class=\"dataframe\">\n",
              "  <thead>\n",
              "    <tr style=\"text-align: right;\">\n",
              "      <th></th>\n",
              "      <th>class</th>\n",
              "      <th>leftweight</th>\n",
              "      <th>leftdistance</th>\n",
              "      <th>rightweight</th>\n",
              "      <th>rightdistance</th>\n",
              "    </tr>\n",
              "  </thead>\n",
              "  <tbody>\n",
              "    <tr>\n",
              "      <th>0</th>\n",
              "      <td>R</td>\n",
              "      <td>1</td>\n",
              "      <td>1</td>\n",
              "      <td>1</td>\n",
              "      <td>2</td>\n",
              "    </tr>\n",
              "    <tr>\n",
              "      <th>1</th>\n",
              "      <td>R</td>\n",
              "      <td>1</td>\n",
              "      <td>1</td>\n",
              "      <td>1</td>\n",
              "      <td>3</td>\n",
              "    </tr>\n",
              "    <tr>\n",
              "      <th>2</th>\n",
              "      <td>R</td>\n",
              "      <td>1</td>\n",
              "      <td>1</td>\n",
              "      <td>1</td>\n",
              "      <td>4</td>\n",
              "    </tr>\n",
              "    <tr>\n",
              "      <th>3</th>\n",
              "      <td>R</td>\n",
              "      <td>1</td>\n",
              "      <td>1</td>\n",
              "      <td>1</td>\n",
              "      <td>5</td>\n",
              "    </tr>\n",
              "    <tr>\n",
              "      <th>4</th>\n",
              "      <td>R</td>\n",
              "      <td>1</td>\n",
              "      <td>1</td>\n",
              "      <td>2</td>\n",
              "      <td>1</td>\n",
              "    </tr>\n",
              "  </tbody>\n",
              "</table>\n",
              "</div>"
            ],
            "text/plain": [
              "  class  leftweight  leftdistance  rightweight  rightdistance\n",
              "0     R           1             1            1              2\n",
              "1     R           1             1            1              3\n",
              "2     R           1             1            1              4\n",
              "3     R           1             1            1              5\n",
              "4     R           1             1            2              1"
            ]
          },
          "metadata": {
            "tags": []
          },
<<<<<<< HEAD
          "execution_count": 2
=======
          "execution_count": 18
>>>>>>> 64b7232506b476033b3fc763e74fcc2da2e15848
        }
      ]
    },
    {
      "cell_type": "markdown",
      "metadata": {
        "id": "aDCFcUeBCC-e",
        "colab_type": "text"
      },
      "source": [
        "## Train Test Split"
      ]
    },
    {
      "cell_type": "markdown",
      "metadata": {
        "id": "JnroglKNriGm",
        "colab_type": "text"
      },
      "source": [
        "FUNCTION FOR SPLITTING THE DATA INTO TRAINING AND TESTING SET"
      ]
    },
    {
      "cell_type": "code",
      "metadata": {
        "id": "ru1pO96V6Hcv",
        "colab_type": "code",
        "colab": {}
      },
      "source": [
        "def train_test_split(X, y=None, split_ratio=0.3, random_state=123, stype=\"separate\"):\n",
        "  np.random.seed(random_state)\n",
        "  if stype==\"separate\":\n",
        "    split = np.random.rand(X.shape[0]) < split_ratio\n",
        "    return X[~split], X[split], y[~split], y[split]\n",
        "  elif stype==\"whole\":\n",
        "    split = np.random.rand(X.shape[0]) < split_ratio\n",
        "    return X[~split], X[split] "
      ],
      "execution_count": 0,
      "outputs": []
    },
    {
      "cell_type": "markdown",
      "metadata": {
        "id": "Bt_-EBXerq1U",
        "colab_type": "text"
      },
      "source": [
        "FUNCTION TO FIND THE CORRELATED FEATURES AND REMOVE THOSE HAVING CORRELATION VALUE GREATER THAN A CERTAIN THRESHOLD"
      ]
    },
    {
      "cell_type": "code",
      "metadata": {
        "id": "6xhvjZOPcDyx",
        "colab_type": "code",
        "colab": {}
      },
      "source": [
        "# >> FEATURE Handling << #\n",
        "def remove_correlated_features(X):\n",
        "    corr_threshold = 0.9\n",
        "    corr = X.corr()\n",
        "    drop_columns = np.full(corr.shape[0], False, dtype=bool)\n",
        "    for i in range(corr.shape[0]):\n",
        "        for j in range(i + 1, corr.shape[0]):\n",
        "            if corr.iloc[i, j] >= corr_threshold:\n",
        "                drop_columns[j] = True\n",
        "    columns_dropped = X.columns[drop_columns]\n",
        "    X.drop(columns_dropped, axis=1, inplace=True)\n",
        "    return columns_dropped"
      ],
      "execution_count": 0,
      "outputs": []
    },
    {
      "cell_type": "code",
      "metadata": {
        "id": "mha7YknjLQ9D",
        "colab_type": "code",
        "colab": {}
      },
      "source": [
        "def remove_less_significant_features(X, Y):\n",
        "    sl = 0.05\n",
        "    regression_ols = None\n",
        "    columns_dropped = np.array([])\n",
        "    for itr in range(0, len(X.columns)):\n",
        "        regression_ols = sm.OLS(Y, X).fit()\n",
        "        max_col = regression_ols.pvalues.idxmax()\n",
        "        max_val = regression_ols.pvalues.max()\n",
        "        if max_val > sl:\n",
        "            X.drop(max_col, axis='columns', inplace=True)\n",
        "            columns_dropped = np.append(columns_dropped, [max_col])\n",
        "        else:\n",
        "            break\n",
        "    regression_ols.summary()\n",
        "    return columns_dropped\n"
      ],
      "execution_count": 0,
      "outputs": []
    },
    {
      "cell_type": "markdown",
      "metadata": {
        "id": "eaIHrMK0sHe-",
        "colab_type": "text"
      },
      "source": [
        "![alt text](https://drive.google.com/uc?id=1CjZXVClvg1UQzcB_44JjA2frUsCln_8l)"
      ]
    },
    {
      "cell_type": "code",
      "metadata": {
        "id": "nwpV5PPFLXDc",
        "colab_type": "code",
        "colab": {}
      },
      "source": [
        "# >> MODEL TRAINING << #\n",
        "def compute_cost(W, X, Y):\n",
        "    # calculate hinge loss\n",
        "    N = X.shape[0]\n",
        "    distances = 1 - Y * (np.dot(X, W))\n",
        "    distances[distances < 0] = 0  # equivalent to max(0, distance)\n",
        "    hinge_loss = regularization_strength * (np.sum(distances) / N)\n",
        "\n",
        "    # calculate cost\n",
        "    cost = 1 / 2 * np.dot(W, W) + hinge_loss\n",
        "    return cost"
      ],
      "execution_count": 0,
      "outputs": []
    },
    {
      "cell_type": "code",
      "metadata": {
        "id": "FCqEQsrBLYr9",
        "colab_type": "code",
        "colab": {}
      },
      "source": [
        "# vanilla and mini-batch gradient descent \n",
        "def calculate_cost_gradient(W, X_batch, Y_batch):\n",
        "    # if only one example is passed (eg. in case of SGD)\n",
        "    if type(Y_batch) == np.float64:\n",
        "        Y_batch = np.array([Y_batch])\n",
        "        X_batch = np.array([X_batch])  # gives multidimensional array\n",
        "\n",
        "    distance = 1 - (Y_batch * np.dot(X_batch, W))\n",
        "    dw = np.zeros(len(W))\n",
        "\n",
        "    for ind, d in enumerate(distance):\n",
        "        if max(0, d) == 0:\n",
        "            di = W\n",
        "        else:\n",
        "            di = W - (regularization_strength * Y_batch[ind] * X_batch[ind])\n",
        "        dw += di\n",
        "\n",
        "    dw = dw/len(Y_batch)  # average\n",
        "    return dw"
      ],
      "execution_count": 0,
      "outputs": []
    },
    {
      "cell_type": "code",
      "metadata": {
        "id": "3_J3QUjfLxXl",
        "colab_type": "code",
        "colab": {}
      },
      "source": [
        "def sgd(features, outputs):\n",
        "    max_epochs = 5000\n",
        "    weights = np.zeros(features.shape[1])\n",
        "    nth = 0\n",
        "    prev_cost = float(\"inf\")\n",
        "    cost_threshold = 0.01  # in percent\n",
        "    # stochastic gradient descent\n",
        "    for epoch in range(1, max_epochs):\n",
        "        # shuffle to prevent repeating update cycles\n",
        "        X, Y = shuffle(features, outputs)\n",
        "        for ind, x in enumerate(X):\n",
        "            ascent = calculate_cost_gradient(weights, x, Y[ind])\n",
        "            weights = weights - (learning_rate * ascent)\n",
        "\n",
        "        # convergence check on 2^nth epoch\n",
        "        if epoch == 2 ** nth or epoch == max_epochs - 1:\n",
        "            cost = compute_cost(weights, features, outputs)\n",
        "            print(\"Epoch is: {} and Cost is: {}\".format(epoch, cost))\n",
        "            # stoppage criterion\n",
        "            if abs(prev_cost - cost) < cost_threshold * prev_cost:\n",
        "                return weights\n",
        "            prev_cost = cost\n",
        "            nth += 1\n",
        "    return weights"
      ],
      "execution_count": 0,
      "outputs": []
    },
    {
      "cell_type": "code",
      "metadata": {
        "id": "6cuxxKm_Ly7m",
        "colab_type": "code",
        "colab": {}
      },
      "source": [
        "def init():\n",
        "    print(\"reading dataset...\")\n",
        "    # train the model\n",
        "    print(\"training started...\")\n",
        "    W = sgd(X_train.to_numpy(), y_train.to_numpy())\n",
        "    print(\"training finished.\")\n",
        "    print(\"weights are: {}\".format(W))\n",
        "\n",
        "    # testing the model\n",
        "    print(\"testing the model...\")\n",
        "    y_train_predicted = np.array([])\n",
        "    for i in range(X_train.shape[0]):\n",
        "        yp = np.sign(np.dot(X_train.to_numpy()[i], W))\n",
        "        y_train_predicted = np.append(y_train_predicted, yp)\n",
        "\n",
        "    y_test_predicted = np.array([])\n",
        "    for i in range(X_test.shape[0]):\n",
        "        yp = np.sign(np.dot(X_test.to_numpy()[i], W))\n",
        "        y_test_predicted = np.append(y_test_predicted, yp)\n",
        "\n",
        "    print(\"accuracy on test dataset: {}\".format(accuracy_score(y_test, y_test_predicted)))\n"
      ],
      "execution_count": 0,
      "outputs": []
    },
    {
      "cell_type": "code",
      "metadata": {
        "id": "RXJufk4GWloi",
        "colab_type": "code",
        "colab": {}
      },
      "source": [
        "X = df_balance.iloc[:, 1:]\n",
        "y = df_balance[\"class\"]\n",
        "X_train, X_test, y_train, y_test = train_test_split(X, y)"
      ],
      "execution_count": 0,
      "outputs": []
    },
    {
      "cell_type": "code",
      "metadata": {
        "id": "FK6C3e0MNgcF",
        "colab_type": "code",
<<<<<<< HEAD
        "outputId": "530e602f-0bb6-4b0a-aaef-e83a3051c09c",
        "colab": {
          "base_uri": "https://localhost:8080/",
          "height": 139
=======
        "outputId": "208ac237-1559-44de-fa3c-6bf390c0e0b8",
        "colab": {
          "base_uri": "https://localhost:8080/",
          "height": 136
>>>>>>> 64b7232506b476033b3fc763e74fcc2da2e15848
        }
      },
      "source": [
        "data = df_balance\n",
        "# convert categorical labels to numbers\n",
        "diag_map = {'R': 1.0, 'L': -1.0,'B': 0.0} #mapping of 3 classes\n",
        "data['class'] = data['class'].map(diag_map)\n",
        "\n",
        "# put features & outputs in different data frames\n",
        "X = df_balance.iloc[:, 1:]\n",
        "Y = df_balance[\"class\"]\n",
        "\n",
        "# filter features if required\n",
        "'''\n",
        "remove_correlated_features(X)\n",
        "remove_less_significant_features(X, Y)\n",
        "\n",
        "# normalize data for better convergence and to prevent overflow\n",
        "X_normalized = MinMaxScaler().fit_transform(X.values)\n",
        "X = pd.DataFrame(X_normalized)\n",
        "\n",
        "# insert 1 in every row for intercept b\n",
        "X.insert(loc=len(X.columns), column='intercept', value=1)\n",
        "'''\n",
        "# split data into train and test set\n",
        "print(\"splitting dataset into train and test sets...\")\n",
        "X_train, X_test, y_train, y_test = train_test_split(X, Y)\n",
        "print(X_train.head(5))"
      ],
<<<<<<< HEAD
      "execution_count": 11,
=======
      "execution_count": 27,
>>>>>>> 64b7232506b476033b3fc763e74fcc2da2e15848
      "outputs": [
        {
          "output_type": "stream",
          "text": [
            "splitting dataset into train and test sets...\n",
            "   leftweight  leftdistance  rightweight  rightdistance\n",
            "0           1             1            1              2\n",
            "3           1             1            1              5\n",
            "4           1             1            2              1\n",
            "5           1             1            2              2\n",
            "6           1             1            2              3\n"
          ],
          "name": "stdout"
        }
      ]
    },
    {
      "cell_type": "code",
      "metadata": {
        "id": "n6XTf362WcTo",
        "colab_type": "code",
<<<<<<< HEAD
        "outputId": "cbc69fec-6013-4bf3-9e8a-877b1f8b63b4",
        "colab": {
          "base_uri": "https://localhost:8080/",
          "height": 260
=======
        "outputId": "3b9aea49-9a3a-4eb9-98fe-27dca4d66d0c",
        "colab": {
          "base_uri": "https://localhost:8080/",
          "height": 255
>>>>>>> 64b7232506b476033b3fc763e74fcc2da2e15848
        }
      },
      "source": [
        "# set hyper-parameters and call init\n",
        "regularization_strength = 10000\n",
        "learning_rate = 0.00001\n",
        "init()"
      ],
<<<<<<< HEAD
      "execution_count": 12,
=======
      "execution_count": 28,
>>>>>>> 64b7232506b476033b3fc763e74fcc2da2e15848
      "outputs": [
        {
          "output_type": "stream",
          "text": [
            "reading dataset...\n",
            "training started...\n",
            "Epoch is: 1 and Cost is: 4575.9353547963\n",
            "Epoch is: 2 and Cost is: 2927.7502457916726\n",
            "Epoch is: 4 and Cost is: 4595.255615361734\n",
            "Epoch is: 8 and Cost is: 3229.8958593572684\n",
            "Epoch is: 16 and Cost is: 3189.6141965063875\n",
            "Epoch is: 32 and Cost is: 2574.885268433476\n",
            "Epoch is: 64 and Cost is: 2426.7952718226957\n",
            "Epoch is: 128 and Cost is: 2408.3071884751803\n",
            "training finished.\n",
            "weights are: [-5.15879553 -5.26966757  5.44174204  5.52199984]\n",
            "testing the model...\n",
            "accuracy on test dataset: 0.8707865168539326\n"
          ],
          "name": "stdout"
        }
      ]
    },
    {
      "cell_type": "markdown",
      "metadata": {
        "id": "wsNoke-oWdF6",
        "colab_type": "text"
      },
      "source": [
        "### Sklearn Model"
      ]
    },
    {
      "cell_type": "code",
      "metadata": {
        "id": "ky5iFzpdD9Nq",
        "colab_type": "code",
<<<<<<< HEAD
        "outputId": "495b0feb-a29a-4324-8cd6-c1498fd059f4",
        "colab": {
          "base_uri": "https://localhost:8080/",
          "height": 86
=======
        "outputId": "a751e84e-eda2-4ca5-cea8-572e10f53206",
        "colab": {
          "base_uri": "https://localhost:8080/",
          "height": 85
>>>>>>> 64b7232506b476033b3fc763e74fcc2da2e15848
        }
      },
      "source": [
        "sk_svc = svm.SVC()\n",
        "sk_svc.fit(X_train, y_train)"
      ],
<<<<<<< HEAD
      "execution_count": 13,
=======
      "execution_count": 29,
>>>>>>> 64b7232506b476033b3fc763e74fcc2da2e15848
      "outputs": [
        {
          "output_type": "execute_result",
          "data": {
            "text/plain": [
              "SVC(C=1.0, break_ties=False, cache_size=200, class_weight=None, coef0=0.0,\n",
              "    decision_function_shape='ovr', degree=3, gamma='scale', kernel='rbf',\n",
              "    max_iter=-1, probability=False, random_state=None, shrinking=True,\n",
              "    tol=0.001, verbose=False)"
            ]
          },
          "metadata": {
            "tags": []
          },
<<<<<<< HEAD
          "execution_count": 13
=======
          "execution_count": 29
>>>>>>> 64b7232506b476033b3fc763e74fcc2da2e15848
        }
      ]
    },
    {
      "cell_type": "code",
      "metadata": {
        "id": "9CXsZruqYqYa",
        "colab_type": "code",
<<<<<<< HEAD
        "outputId": "597cf49c-0b41-4165-9c06-a52e4e79bea4",
=======
        "outputId": "00dc7663-c344-4e72-8047-2580b58a049d",
>>>>>>> 64b7232506b476033b3fc763e74fcc2da2e15848
        "colab": {
          "base_uri": "https://localhost:8080/",
          "height": 34
        }
      },
      "source": [
        "y_pred = sk_svc.predict(X_test)\n",
        "print (\"Accuracy is \", accuracy_score(y_test,y_pred)*100)"
      ],
<<<<<<< HEAD
      "execution_count": 14,
=======
      "execution_count": 30,
>>>>>>> 64b7232506b476033b3fc763e74fcc2da2e15848
      "outputs": [
        {
          "output_type": "stream",
          "text": [
            "Accuracy is  89.8876404494382\n"
          ],
          "name": "stdout"
        }
      ]
    },
    {
      "cell_type": "markdown",
      "metadata": {
        "id": "CQBakNrBt_u4",
        "colab_type": "text"
      },
      "source": [
        "VISUALIZING THE DATA"
      ]
    },
    {
      "cell_type": "code",
      "metadata": {
        "id": "IWjcX28Ik4rR",
        "colab_type": "code",
<<<<<<< HEAD
        "outputId": "dff489c5-f0c7-446b-a52a-cfd5ffc0e41d",
=======
        "outputId": "b107c55d-2fb0-4c92-d305-155b79780987",
>>>>>>> 64b7232506b476033b3fc763e74fcc2da2e15848
        "colab": {
          "base_uri": "https://localhost:8080/",
          "height": 265
        }
      },
      "source": [
        "\n",
        "import numpy as np\n",
        "import matplotlib.pyplot as plt\n",
        "from sklearn import svm\n",
        "from sklearn.datasets import make_blobs\n",
        "\n",
        "\n",
        "# we create 40 separable points\n",
        "X, y = make_blobs(n_samples=40, centers=2, random_state=6)\n",
        "\n",
        "\n",
        "# fit the model, don't regularize for illustration purposes\n",
        "clf = svm.SVC(kernel='linear', C=1000)\n",
        "clf.fit(X, y)\n",
        "\n",
        "plt.scatter(X[:, 0], X[:, 1], c=y, s=30, cmap=plt.cm.Paired)\n",
        "\n",
        "# plot the decision function\n",
        "ax = plt.gca()\n",
        "xlim = ax.get_xlim()\n",
        "ylim = ax.get_ylim()\n",
        "\n",
        "# create grid to evaluate model\n",
        "xx = np.linspace(xlim[0], xlim[1], 30)\n",
        "yy = np.linspace(ylim[0], ylim[1], 30)\n",
        "YY, XX = np.meshgrid(yy, xx)\n",
        "xy = np.vstack([XX.ravel(), YY.ravel()]).T\n",
        "Z = clf.decision_function(xy).reshape(XX.shape)\n",
        "\n",
        "# plot decision boundary and margins\n",
        "ax.contour(XX, YY, Z, colors='k', levels=[-1, 0, 1], alpha=0.5,\n",
        "           linestyles=['--', '-', '--'])\n",
        "# plot support vectors\n",
        "ax.scatter(clf.support_vectors_[:, 0], clf.support_vectors_[:, 1], s=100,\n",
        "           linewidth=1, facecolors='none', edgecolors='k')\n",
        "plt.show()"
      ],
<<<<<<< HEAD
      "execution_count": 15,
=======
      "execution_count": 31,
>>>>>>> 64b7232506b476033b3fc763e74fcc2da2e15848
      "outputs": [
        {
          "output_type": "display_data",
          "data": {
            "image/png": "iVBORw0KGgoAAAANSUhEUgAAAXkAAAD4CAYAAAAJmJb0AAAABHNCSVQICAgIfAhkiAAAAAlwSFlz\nAAALEgAACxIB0t1+/AAAADh0RVh0U29mdHdhcmUAbWF0cGxvdGxpYiB2ZXJzaW9uMy4xLjMsIGh0\ndHA6Ly9tYXRwbG90bGliLm9yZy+AADFEAAAgAElEQVR4nO3deXhb1Zn48e+RZNmWZcuStzhOHGch\nDtkhC0lIQgIpOwQohdICLUvDdKX8aJlSnun0N9P2melvug0tDLTAlClLSyDswx7W0oYQAiHE2ePY\nTrzElnftOr8/ZCmSJSdxbFmS/X6ex0+ie2XpKNF977nnvue8SmuNEEKI0cmQ6gYIIYRIHgnyQggx\nikmQF0KIUUyCvBBCjGIS5IUQYhQzpboB0YqLi3VVVVWqmyGEEBnlww8/PKK1Lkm0L62CfFVVFZs3\nb051M4QQIqMopWoH2ifDNUIIMYpJkBdCiFFMgrwQQoxiEuSFEGIUkyAvhBCjWFpl1wghBieoNfta\ne6h19pJlNFBdYqUsPyfVzRJpRIK8EBns3X2tNHZ5CPStJtvY6WHBxEKmFuWluGUiXchwjRAZqq3X\nGxPgAQJas7Whg6AsIS76SJAXIkO1u3yg4rf7g0F8geDIN0ikJQnyQmQoW25Wwu1GgyLLKIe2CJFv\nghAZypGbRUmeGaM62p03KsW88TYMKkEXX4xJcuNViAyllGLllGL2HOmOZNfMKM2nvECya8RREuSF\nyGBGg6K6NJ/q0vxUN0WkKRmuEUKIUUyCvBBCjGJJC/JKqf+nlKpRSn2ilNqglCpM1nsJIYRILJk9\n+VeB2VrrucAu4M4kvpcQQogEkhbktdavaK39fQ//BkxI1nsJkQpaazpcPtpdPrTMMBVpaqSya24E\n/pxoh1JqHbAOoLKycoSaI8TQdLl9vLn3CC5/EAVkmwycNbUYW07iCUpCpMqQevJKqdeUUp8m+Fkb\n9Zy7AD/wSKLX0Frfr7VeqLVeWFKSsA6tEGlFa82be4/Q7Q0QCGr8QU2PN8Cbe45Ij16knSH15LXW\na461Xyn1VeBi4Bwt334xSnS6/bj88WvDeANBnC4fDos5Ba0SIrGkDdcopc4H7gDO0lr3Jut9hBhp\nmoTrgoX2SVdGpJlkZtf8FsgHXlVKbVVK/VcS30uIEWPLMZFtij90sowKh0XG5EV6SVpPXms9LVmv\nLUQqKaU4a2oxb+45grdvSd8so2LV1BKULAwm0oysXZOmAkFNj9dPTpYRsywbm3ZsOVlcOmscTpcP\nTWhFyNEa4NtdPj453EFH3/2GOeUFFEgWUcaQIJ+GDrT1sLmuHU2ohucURx4LJhbK8rFpRik16m+y\ndrh8vLqrGX8wdLOh2+viUKebC08tI88s4SMTSBcxzbS7fGw62I6vLzUvqGF/Ww87m7tT3TQxBm1v\n6iQQjL2bHAhqdjR1pahFYrDkVJxm9rX2xNTsBAho2H2km1PLZDlZMTxauj1saWinw+3HajZyWkVh\nwnXo2/uGo6Lpvu0iM0hPPs30D/BhQUnNE8Okw+Vj494jtPX6CAQ1HW4/7+xr5UiPJ+65pdbsuHRR\ng4LS/OyRaawYMgnyaabKbokp5wahg6rKYUlRi8RoU9PSTbD/EIzWbG+MH4KZOa4As9GAoe8raVSh\nJRyqS6wj0dQYWmsOtPXy8s4mXviske2N8UNJIp4M16SZEms2p5ZZ+aypC4NSaA3FeWZmjytIddPE\nKNHj8ccNwQD0eP1x2yxZRi48tYzdR3po6/VSYjUzrciKOcE8gWT7rKmL7U1dkcC+vbGTpi4PZ58i\ny6EciwT5NDSn3Ma0YittvV6sZhO2XElXE8NnvC2HIz0eAlGR3qBgfEFuwufnZBmZU57aTkYgqGMC\nPITuVR3p8dLW683YLCetNc3dHrq9AYot5qQc6xLk01RulpEKW+KDToihmFacx/62Xro9fvxBjcmg\nyDEZmJnGN/Y9/gCJLj+Ugi6PPyODvC8Q5LXdLXR7/JHlMCbZc1lcaR/WORcS5IVIAmevlw8b2nH2\n+rCYjcwfb0ubk7bJYOC86lLq21209Xqx5WZRWWjBaEjfeRg5WUaMBggEYrdrrXFk6JXuJ4c76XT7\nYpIqDra7mFCYO6zfFbnxKsQw6/H6eW13Cy3dXvxBTafbz3v72zjc6U510yIMSlFptzC/opDJjry0\nDvAQau/pEwpjkhJMBsUku4X8DJ19W9/uisua8wc1de2uYX0f6ckLMcx2t/QkzF75tLEzYS66ODGT\nHXkUZGex+0g3vkCQKoeFCWlydXQysowK+k03UDDsy5hIkBdimPV4/cSvNg+93kCCrWIwivLMFOU5\nUt2MYTGj1Mrm+o6Ym8kGpZhWnDes7yPDNUIMs/KCnLjhDwWMkwlEIspkRx6zy/IxGRQGFUq2WD7Z\nMeyLv0lPXohhNsluYW9rD+0uH/6gxmhQZBkUc8fbUt00kUaUUswcV8CMsnz8AU2WUSVlJVMJ8kIc\nR6fbx5EeLxazkTJr9nEPRKNBcc4pJTR0uGnp9lCQY2KS3UKWLBktEjAohdmUvBvfEuSFGIDWmi0N\nHew90h0J7JYsI2umlyasDBXNoBQTC3OZWJi5NwbF6CBdCyEG0NztYW9rDwEdSm3zBzXdHj9bG9qT\n/t5uXwBvgmLhQgyW9OSFGEB9uytuAawgUN/h5owkvWeX28e7B9rodIdy60qt2SyrKjrulYMQA5Fv\njhADMJsMCQ+QLGNyxk+DWvP6nhbaXaFZkEENzV0e3tvfmpT3E2ODBHkhBjDZkYfqlwppNKikLbPb\n0u3BF4i/cmjp8eD2SY69ODkS5IUYgDXbxMopRViyjCgVmkY/o8TK9CQF+UBQoxMVjdEDF5MR4nhk\nTF6IYxiXn8Ols8bhC2hMRpXUYuql1uyEFcCUCmX1CHEypCcvxHEopULj80kM8BBaSTfRW2ig0x1f\n0EOIEyFBXog0oLVme2Nnwp68USm6E1RtEuJESJAXIg1sb+piV0tPwn0BrbHnZl5RDJEeJMgLkWJa\na3Y0dSW8uWpQML3EisUsY/Li5EiQFyLFgn0zahOZUpTHfFnYTAyBBHkhUsxoUNhy4hPdjEpxSrE1\nKSsTirFDgrwQaeCMSgcmgyI8mdZoUEwpslCYofVLRfqQPHkx4rTWtLt9oKEwN0t6qoQqHl0ycxwH\nnL14/EHGF+RQYpUiI8fS7fGzuc5JU7eHLKOBGaVWTi3Nl+9TPxLkxYjqdPt4c+8RPH0rLJqNBlZN\nLcYmPVZysozMKM1PdTNSTmt93EAdCGpe3dWMxx9EAx5/kE8buwhqmD2uYGQamiEkyIsRo7Xmrb1H\n6ImqdeoPBti49whrZ42THtgYprWmprmbz5q68AaCFOaYWFzpoCgvcepofYcLf1ATfbs6ENTUNHUx\nq0x689HSakze5/PR3NyM1+tNdVNEEnS4/bgSrJHuCwRxunwJfkOMFXtbe9jW2Ik3EPp+tLv9vLGn\nBdcAC7O5fAGCCVJOfQNkKY1ladWTb29v55577gHAarVit9uZOnUqq1atAqCxsZG8vDysVsk4GG3k\n0BzbPmvqil+7X2v2tfYwK8HwS1l+NgpF/2+OwyL3ePpLepBXSt0O/AdQorU+cqznFhYWcuWVV+J0\nOnE6nbS1teFyuSL7//jHP+JyucjKyqKwsBCHw8GMGTM47bTTAGhtbcVms2EypdW5S/Sx5ZjIMRli\nhmsAsowGHDImP6aFe/DRgprIvZv+7LlmphbnhSp3BTVGpTAoWFxpT3ZTM05So6FSaiJwLnDwRJ6f\nlZXF7NmzE+7TWvP5z38+EvzDJ4L29lApNq/Xy913341Sivz8fOx2Ow6Hg9mzZzN16lSCwSAulwuL\nxSJn+hRRSrFqanHMjdcso4HVU4vl/2SMK8/Poa7dFdMvNxkU4wtyBvydBRMKqbJbONzlJttkYFKh\nBbNU0IqT7C7vr4A7gGeG+kJKKaZNm3bM/VdccUXMVcCePXsoLy9n6tSptLW18dvf/pbs7Gzsdnvk\nZ+7cuYwbN45AINS7NBpl+ngyFeRkccnMcbS7fGjALimUAjh9QiFHerx4A0GCWqMIFUIvyz92GmlR\nnnnAm7MiJGlBXim1FmjQWn98rINYKbUOWAdQWVl50u+XlZXF3Llz47aHizDk5uZy/vnnR04CR44c\nYffu3VRWVjJu3Dhqa2v5n//5H2w2Gw6HI3ISmDNnDjab7YTSutKRxx/A4w9izTYlfancE6WUwm6R\nA1MclZtl5OKZ42jocNHrC1BizaZIviPDYkhBXin1GjAuwa67gB8SGqo5Jq31/cD9AAsXLhz2+2/h\nwJyXl8eSJUv6v3fkJFBQUMDKlSsjQ0E1NTX09PQwZcoUbDYbW7du5ZVXXom5CrDb7cyePZvs7PSb\ntBIIat4/0EZDpwuDChW7WFrlOOblrxCpZDQoKu2WVDdj1BlSkNdar0m0XSk1B5gMhHvxE4AtSqnF\nWuvGobzncFJKRU4CxcXFrF69Oma/x+MhKyt0Q7CoqIjZs2fjdDo5fPgwO3bsIBgMMmPGDLKzs3nn\nnXf46KOPYq4C7HY71dXVGAwjP074UUM7hzpdfQWhNaB5d38rF88cJ1WGMlBDh4udzd14A0Em2S1M\nL7FiNKTHlZlIb0kZrtFabwNKw4+VUgeAhcfLrkk30T30ysrKmOGkYDBIZ2cnFkuo5+FwOCgvL8fp\ndNLQ0IDL5cJkMnHXXXcB8Oqrr1JbWxu5IRz+cyhDVMeyv62XfjWh0VpT5+ylWmZVZpRdLd1sPdQR\nSTHsdHfS2OVm9bSSFLdMZALJNTxJBoOBwsLCyONZs2Yxa9asyGOXy0VXV1fkSsFqtWI2m6mrq+PT\nTz9Fa43D4eA73/kOAM8//zydnZ2RKwCHw0FRURFFRUUn1b6EBaEhYeUhkb6CWvNJVICHUBGRlh4v\nrb1eGbcWxzUiQV5rXTUS75NOcnNzyc3NjTxeunQpS5cuBSAQCNDR0YHb7Y7sNxqNdHZ2cuDAgciM\n36qqKr761a8CsGHDhtANy6ihoKKiosiVRH8VtlzqO1wxQV0BEwpzEz5fpCevP5iwmIgCOl0+CfLi\nuKQnnwJGoxGHwxGz7YILLgBCPfDe3l6cTmfM/p6eHpqbm+ns7IxsmzdvHpdffjlaa5588kny8/Mj\nQ0GT82209xro9WsUoR7h6RMKyc+W//JMYjYZMBkMcZOFtIZCi0wgE8cnR3yaUUqRl5dHXl5ezPZr\nr70WAL/fT3t7O21tbZFefHjNn507d+LzHV0DZvny5SxbtpL2Hhdb3t3I4a4i3FHDQTk5ORmZFjqW\nGJTitAobm+vaIz16o0FRnp8jdV/FCZEgn2FMJhPFxcUUFxdHtpnNZr7xjW+gtaa7uzsyF6C0tBS7\nxUzQ1cX+vXvY9vHWmNe65JJLWLBgAe3t7WzevDlmKMhms6UkK0jEm1KUhzXbxK6Wbrz+IFUOC1WO\n5KcaBrVm75EeDjh7yTIaqC6xUi4puBlHDXSDLhUWLlyoN2/enOpmjFperzdyAnA6nUybNo2SkhL2\n7dvHI488Epn1C6Eby9deey1TpkyhubmZ3bt3x2QGpePcADG83t53hMZOdyRLy2gIXVWcUmxNbcNE\nHKXUh1rrhYn2SU9+DDGbzZSVlVFWVhazfcqUKdx11110dXXFrA0Uzuypq6vj1Vdfjfkdi8XCTTfd\nRFFREQ0NDTQ3N0euAgoKCmQYKMM5XV4aOz0xabiBoObjhg6mFuWlzexpcXwS5AUQ6rnbbDZsNhtV\nVVUx+xYsWMCsWbNirgLa2tqwWkM9uh07dvDuu+9Gnm80GrHb7axbty6SNtrT04PD4aCwsBCzWcaS\n012Hy4+KX8mXoNZ4/EFyZUJdxpAgL05ITk4O5eXllJeXx+1bvXo1p59+euSGsNPppKurKzJbeNOm\nTWzbti3yfKvVSllZGddddx0ABw+GFim12+0pqxWgtWbTpk3s378fi8XCypUrY+ZBjDW2XBOJRnIN\nSpEtKz1mFAnyYsjCKaEOh4MpU6bE7b/wwgtZsmRJzFVAtNdff53a2logtNCc3W6nqqqKCy+8EID6\n+npycnIoLCxMSq2Ap59+mn/6p3/C6/Uyf/58Ojo6+MpXvsIXv/hFfv7zn5OfP/ZmCNtzzYwryI4d\nk1eKeRU2GarJMBLkRdLl5uZSUVFBRUVFwv1r166ltbU15iQQnRCwfv162tvbI7UCHA4H06dPZ9my\nZUCoYlhBQQG5ubmDvgp46KGH+NGPfsQDDzzAmjVr8AY0WUYDLc1N3HXXXZx99tls3LgxMjQ1liyf\nXCTZNaOAZNeItFdfXx8ZBgr/WVlZyZo1awgGg/z0pz8lEAjE1AqYPXs2s2bNQmuN0+nEZrPF1Qpo\nampixowZ/O1vf8NRUcX7tW2RmqJTi/I4rcLGdddeS1VVFT/72c9S8dEzWpfbR3OPF0uWkbL8bLkC\nSKJjZddIkBcZLRgMsnv37pirAKfTyWmnncaZZ55JV1cXv/jFL1BKxdQKmDt3Lo888gh79uzhl7+5\nm1f3teOPWgPCqBTVpVZyuhpZuXIlBw8elLTRQfiooZ3dLd2gQpVYc7OMrDmlhBy5YZsUkkIpRi2D\nwUB1dfWA+81mM2vXro3JDKqpqWHixIls3LiR6667jn/6l5/S6gVLvg2rrZC8fBuV02eyxwCXzZpG\ncXExn332WaSWsDi2lm4Pu4/0hMby+zqR3R4/HzV0sLTKcexfFsNOgrwY1bKzsxMGZ601fr8fu93O\nGStX88n+Q3R3tONsaaJh325KKiYScDjYtWsX7e3tPPLII2zfvj2mbKTVas3YimHJVN/hilk1E0KZ\nmA2drtQ0aIyTIC/GJKUUM2fO5KOPPuI7378T887myNowwWAQBZQX5KK83XR0dDBr1ix6enqor6/H\n7XZTXV2N1Wpl06ZNvP322zGzge12O7NmzYqkkI412UYDBhW/rLVJlslICQnyYsy65ZZbuOCCC7j9\n9tuZOS6f7Y2doZuDBiM5JgMLJxby6/+4n8svv5wbbrgh8nsulysyPl9cXEx1dTVOp5ODBw+ybds2\ntNaR2gJvvPEGO3bsiKkTYLfbOeWUU0btFUCVw8KnTV1EJ9oblaK6ZOxlKKWDtLrxOmfOHP3CCy+k\ndFKMGFtuuukm6urqWL9+PcYcCy3dXnKyDJRZs3niiSf49re/zTvvvMP06dNP6PXCtQLCS0lv3bqV\nnTt3Rm4Ie71eLBYLd9xxBwAvvvgiTU1NMYvDFRcXM378+KR95pHQ3OXhbwfb6PUFMPQF+LnlstxF\nsmRMds2kSZN0uMcUnhTT/yc8NT4Zk2LE2OP3+/nud7/LY489xpe+9CXmz59PZ2cnjz76KE6nk/Xr\n1zN//vxhea9wrYDu7u7I+kFvvfUW+/btw+l0RmoFjBs3jn/4h38AQhO13G53zFBQcXFxRszG1Vrj\nC2hMRiXpk0mWMUF+/vz5ev369TGpcOGfcLUkIDIppv8lcPjHYrFIj0EMSl1dHQ899BD79+8nNzeX\niy++mPPOOy8utz6ZfD4f7e3t+Hy+SE/+6aefpqGhAafTid/vB6C6upprrrkGCE0UM5vNcbWDc3Jk\n0tJYkjFBfqA8ea01PT09cQtkhf/e1dUV8/zoSTH9TwKJJsUIke7CtQLa2towmUxUVFSgteahhx6i\nra2N7u7uyHMXLVrERRddRDAY5Mknn4w7FgoKCqRWwCiT8XnySimsVitWq5WJEyfG7Q/3gPr3/o8c\nOcLu3bsjPaDwa9lstoRXAHa7PaYuqxDpInz1Gr2OjlKKG2+8EYitFVBQUABAb28vjY2N1NTUxNQK\nOOecc1ixYgXd3d28+eabcceBTPoaXTKiJz8UWuvIOumJrgJ6enpinp+bm5vwPkB4nXTpAYlMEwwG\n6erqinzvKyoqKCsr4/Dhwzz88MO4XLH561deeSWzZ8+mtbWVjz/+OOYYyM/Pl6HQNJTxwzXJ5PF4\nEl4FtLW10dHREVctqbCwcMCrAOkBiUzkdrtjvvczZ87E4XCwY8cOnnjiCYLBo0XETSYTN9xwAxUV\nFRw+fJja2tqYY2Cszg1INQnyJykYDNLZ2ZnwCsDpdMb1gPLy8ga8FyA9IJGJwimh0d/7ZcuWkZeX\nx3vvvRdXMcxqtXLLLbeQn59PXV0dbW1tkeMgLy9PjoEkkSCfJC6XK+bL3/8qIPrf1mQyHTMlVHpA\nItNorSPHQHQH6JJLLsFgMPDCCy/wwQcfRJ6flZWFw+HglltuwWAwcPDgQTweDw6HA5vNJmnRQ5Dx\nN17TVW5uLrm5uQknrvTvAUUfBAcOHIhJCQWOmRIqPSCRjpRSWCwWLBZLwloB5513HmeccUZMB8jt\ndkfua7333nvs3Lkz8loFBQVUVFRw1VVXAaGKYeFSkidTK0CESJBPkuhqSf2FJ8UkugLYv38/H3/8\ncczzw3nQiYaCCgsLJSVUpCWTyURxcTHFxcUJ91966aW0tbXFdICir2hffPFFGhsbgaNp0dOmTWPN\nmjVAqM6AxWKRtOjjkCCfAkop8vLyyMvLY8KECXH7/X4/7e3tcVcAbW1t7N27F5/PF/NaBQUFCW8E\nSw9IpLPwMZAoLRpCWT7himHh4yD6JvCjjz5Kb29vpAi93W5n5syZLFwYGrVoamrCZrON+YlhEuTT\n0LF6QOFJMYlSQnft2hUzKQZCBbgHugqw2WySEirS1rGuArTWXHXVVXHHQTgl2ufzce+99wJgsVhi\nloiePn16JK00Pz9/1B8DEuQzTPSkmMrKyrj9Xq83YUpoU1MTO3fujEsJja6W1P8kICmhIl0ppaiq\nqqKqqmrA/f1PAocOHWLSpEkAOJ1O7r77boxGI4WFhZHv/Pz58xk/fjyBQIBAIIDZbB7BT5UcEuRH\nGbPZTGlpKaWlpXH7wr2XRDeDP/vsM3p7e2OeH90D6n8iKCiQFQVF+jKZTMycOXPA/bm5uVxyySUx\nx0JdXR2TJ09m/Pjx1NbW8vDDD2O1WmO+9/Pnz8dut4dqDiiVEceApFCKiOhJMf1PAh0dHTHjoeGs\nh4FuBo+GHpAYW8KxUClFW1sb27dvjzkWOjs7ufnmm6moqGDr1q288MILcZMj586dS25u7ohXDJMU\nSnFCcnJyKC8vp7y8PG5fIBCgs7MzbhgoXCzD4/HEPD/cA0p0Q1hqBYh0FP2ddDgcrFixIma/3++P\njN8XFxezcOHCuLTocLGYd955h82bN8d1gGbOnDnimUAS5MUJie659xc9KSbRnIBPPvkkZmJY/1oB\n0ScCqRUg0lX093LChAkxmXHhtGiLxQJAWVkZU6ZMwel0snfvXrZu3YrRaIycBF5++WX2798fcxwU\nFRUxZcqUYb8KkKNJDNnxJsVEp4T2PxHs27cvLiU0Pz9/wJvBkhIq0lE4LTqsurqa6urqyGOfz0dX\nV1fkSsDhcNDa2hqzUq7dbufWW28F4JlnnqG9vT3mu19cXBwpNjMYSQ3ySqlvA98EAsALWus7kvl+\nIj0dLyU0XCug/1DQnj17pFaAGBXCSzqELVq0iEWLFgFHV8oNr4UV7jS1tLSwc+fOSFropEmTIrWG\n169fj9Z6wKvraEkL8kqp1cBaYJ7W2qOUik/3EGPeidQKSHQF0NLSMmCtgET3AaRakkhX4QmN4ToA\nAJ/73Ocifw+vlBud+BAIBGhqamLHjh3Hf/1kZdcopf4C3K+1fu1Ef0eya8RgRNcKSLRUdP+U0Oha\nAYlSQkf7pBgx+gSDQbq7u7HZbCO/CqVSaivwDHA+4Aa+p7X+IMHz1gHrACorKxfU1tYmpT1i7PF4\nPAOmhPbvGYUnxQw0FCQpoSKdJS2FUin1GjAuwa67+l7bASwBFgF/UUpN0f3OKlrr+4H7IdSTH0p7\nhIiWnZ3NuHHjGDcu/isaXSug//pA9fX1uN3umOeHawUkGgqSWgEinQ0pyGut1wy0Tyn1deCpvqC+\nSSkVBIqBlqG8pxDDIVzlq7CwkMmTJ8ft718rIHwiOHjwINu2bTtmrYD+KaFSK0CkUjKza54GVgMb\nlVLTATNwJInvJ8SwOV6tgIFSQhPVCigoKBhwdrDFYpGrAJFUyQzyDwIPKqU+BbzAV/oP1fTndrvZ\ntWtX5ECQSTEiHRmNRoqKiigqKorbF10roP/N4L1798alhEbXCug/FCS1AsRwSKu1ayZNmqTDeaAQ\n6gFVV1dz0UUXAbBr167IolnSAxKZyOfzDXgV4HQ641JCE9UKiJ4YJgRk0No1RUVF3HTTTTEHQH5+\nPhDqIT355JORNVLCk2Lmzp3LsmXLANi3bx+FhYUyKUakraysLEpKSigpKYnbF10roP9VQPSkmLDo\nWgH9TwRSK0CEpVWQNxgMTJw4ccBKMTfffHPcARD+Irvdbh5++GHg6KQYu93OwoULmTVrVmTygPSA\nRLo6kVoBia4ABqoVcKyUUKkVMHakVZA/FqXUgD0gCPWQbrjhhrgDIHz529rayv333w/ETopZsmQJ\nEydOxOv10tvbK5NiRNoym82UlZUlXL8kXCsg0aSwQ4cORabMh4WHPRMNBUlK6OiSMUH+eIxGI5Mm\nTYpUfumvoKCAq6++OuYAaGxsjORDHzx4kD/96U8xPSCHw8GSJUsoKirC6/WitZYekEhL4SpfNpst\nYUpodK2A6BNBfX0927dvj5kYZjKZ4tZJj/6RlNDMMmqC/PHk5ORw6qmnDri/pKQkUj0+fAB8+umn\nLFiwAIBt27bx3HPPRSbFRF8JWCwW/H4/RqNRekAiLR2vVkBHR8eA8wL61wrIz88fMCU0Ly9PjoE0\nk1bZNem4dk14beempiZ2794dcwB0dHRwxx13kJuby8aNG3nvvffivvyLFi3CaDSOeKUYIYZDdK2A\nRAVjOjs7B6wVkCglVNKikyNjsmvSUTgwJxoLDQQCkfH7SZMmxayYeODAAbTWnHHGGQA8++yz7Nmz\nJ+YAKC4ujhQRSDWtNfX19Xi9XsrLyyPFD8TYNty1Ao41MUxqBSSHBPkhiE7TnDJlClOmTIk81lrj\ndrsjX9pwVfm2tjb279/Pxx9/HBPkH3/8cZxOZ8yXv6ysbMB7DMPF5/Nx7733cs8999De3o7FYsHp\ndHLNNddwxx13RNotRCInUsyCmxoAAB0VSURBVCsg0c3g3bt3093dHfP8cFp0ovsAkhZ98iTIJ4lS\nKiZVc968ecybNy/y2O/3xyyFW1FRgdaatrY29u7di8/nY8qUKVx//fUA/PGPfwSIOwkMlG10Inw+\nH1dccQU9PT38/ve/Z/ny5SilaGho4J577mHp0qW88sorzJkz56TfQ4xd0bUCBkoJbW9vp62tLfKn\n0+mkubk5YUpoOC060YlAagUMTIJ8iphMppgiAdFFg8OTYqIvde12Oy0tLezatSvSAzrttNNYu3Yt\nWmsefPDBuLJ5paWlWK3WAdvw05/+lGAwyEsvvcShdzbw+v85H39vF2Wnr+JH//h9Zs+ezWWXXcbO\nnTtlLFUMO7PZTGlpKaWl8fWEwrUCEl0F7NixI2GtgIGKxeTn54/ptGi58ZqBwpNiTCZTJL3ziSee\niPSIwj2gs846i9WrV+NyuVi/fn3Mlz8vL4/Fixfz9ttvY6h5m10b7iXg7Ss/ZjRhKa7g7F+8wJnL\nV/CDH/yASy+9NJUfWYgY0bUC+p8IjlUrINGJYDTUCpAbr6NMeFJM9OMvf/nLwNFJMdFLQrjdbtxu\nN5999lmkB3TgwAFKS0uZfsopPP4vV7O1tgWr2Ui+2Uie2UChbqJp6ztcd911bNiwQYK8SCvHqxUw\nUEpooloBVqt1wJnBVqs1428GS5AfZaInxYTZ7Xa+9rWvAUcnxTz11FMcOnSIoN8bujnm8lPX6Y2k\nwyljD8WffERx8QSampp48cUXYw6CwsLCUdEDEqOPwWCIfFcTGSgltLa2Nq5WQFZWFoWFhQmvADJl\npdz0b6EYVuFJMcuXL+cXv/gFymRm8pSplFpqCWpNry9ItzdArzZRfcYq3vrzMzgcDj7++OO4STHf\n+ta3KC4uZt++fRw8eDDmyz8aekBidBpMrYDoE8H+/fuPWysg+mSQLivlSpAfo+bOnUthYSEvv/wy\ni7/2r/zt57egAn6syoct30rF0osomTabP/zhEl588UXmzJkTUy2pra0tcrVQV1fHW2+9FdcD+v73\nv4/ZbGbXrl04nc7IASCTYkS6OpFaAYkmhSWqFRBOCU10EhjJlFC58TqGPf3003znO99h48aNlBfk\ncPCtDXi7nZQvOIfCGYu46aab6O7u5qmnnjrua/n9fjo6OiIHQFdXF+eccw4ATz31FJ988knkuUop\niouL+eY3vwlATU0NPp8vchDIpBiRifrXCuh/MuhfKyCcEppoKGiwK+XKjVeR0GWXXUZTUxOLFy/m\n+uuv5wtf+AIWi4Un3/sbv/vSLVRUVLB+/foTeq1wpk+iHtDll1/OueeeG/Plj85+eO+996irq4s8\nzs7OZurUqVx11VVA6CQQni4vk2JEujperYBwQkT/G8I1NTUJawUMVCxmsCvlSk9ecODAAe677z5e\nffVVvF4v1dXV3HLLLZx99tkjkl8cvRxE+MdisXDWWWcB8Mtf/pLOzk7g6I3lWbNmsWZNqI78rl27\nIotmyaQYkYk8Hk/MhLD+KaED1QoIB/4zzzxzwJ68BHmR9jo7O+MugcvLy1m2bBmBQCAyqQuO1go4\n/fTTWbhwIVprDhw4cFI9ICHSQTAYjDkG+g8Feb1efvSjH0mQF6NTMBikubk57ss/c+ZMFixYQEdH\nB7/61a+A2EkxZ5xxBqeccgo+n4+2traUToppaWnh9ddfx+VyMXXqVFasWCH3JMQJ83g85OTkyJi8\nGJ0MBsOAk2IgVAHp+uuvj7sEDi8Z0djYyAMPPAAQqRXgcDhYunQp5eXleL1ePB5PUlJC29rauO22\n23j22WdZtWoVNpuNX/7yl/h8Pn7yk59w5ZVXDuv7idHpeIWMJMiLUS0rKytmddD+ioqK+MIXvhBX\nKCNcLGb37t088cQTmEymmJtgy5Ytw2az4fV6UUoNulpSe3s7q1atYtWqVezdu5f8HDN+VxfZ9jLe\neecdrr/+etrb27n55puH9PmFkOEaIY7B6XSyZ8+euOGgr3/969jtdv7617/yyiuvxC0Ot2TJErKz\nswesGHb77bfT0dHBfff+jk/+8GMa3n8RDAqztZDTv/lznCY7ixcvZufOnQkX8BIi2rFSKCXICzFI\nkaUf+pZljj4JOJ1Ouru7+eEPf4jJZOKll15iy5YtMWlwubm5XHbZZXz44Yd0vfM4ta8/TtB7dDax\nMTuXNb9+lW/e/o9MnTqVO++8M1UfVWQIyZMXYhhF98orKiriKib5/f7IjN7wUJHT6aS1tZU9e/bQ\n3NzMpEmTqKqq4s4bfk9zR3dkYTir2Yg9Hw79/SUuu+wyfve730mQF0MiQV6IYRa9ZMP06dOZPn16\n5LHWmjfffJNNmzYBUGoxgD+Lbm+AQ11e3P4gju4AazxusszF1NXVcd9998UMBY0bNy5hKT4hEpEg\nL8QIUkoxd+5cdu7cidPpZPmaC2jcshEdCE159wU0fmMW4xaezYN3/54ZM2aQl5dHY2MjNTU1BAIB\nTj31VK6++moAHnjgAcxmc8zEmLKyMhwORyo/pkgjEuSFGGFFRUVcdNFF3Hvvvdz+zX+mq2EvrrZG\nlFIY/H5Ou+Z2AhYHDzzwAG+//TbV1dXA0Ukx4YlfWmtsNhtOp5Pt27fjcoWKvpxxxhlccMEFBAIB\nHnroobh1UUpLS6VQ+xgiQV6IFPjxj3/M8uXLqays5Es/fw7n7q14Oo5QVL2ALp/m4osv5uqrr44E\neDg6nT1MKRWTSx+uFRCe1OV2uzGbzdTX17N9+/bIyeHcc89l2bJldHZ28txzz8UtkuVwOGSV0FFE\nsmuESJFt27Zx9dVXYzKZuOaaaygoKGDLli089dRTrFu3jp/97GfDthhbIBCIVEsKB/SmpiY2bNiA\n0+mMqRVw5ZVXMnv2bBobG3n//ffjFsnKy8uTGblpRlIohUhTWmveeOMNXnjhBdxuN1OnTuW6664b\n0dx4rXVMrYDKykoKCgrYvXs3zz//PJ2dnTG1Am688UYqKyupra2lpqYm5iQgtQJSQ4K8EOKk+f3+\nmHXS58yZQ25uLh988AGvvPJKZIkICA0h3XbbbZGTxOHDh2OGgqRWQHJInrwQ4qSZTCaKi4spLi6O\n2b5o0SIWLlxIT09PzGxgq9UKwL59+3j//fdjfsdisfC9730Pg8FATU0N3d3dkROA1ApIDgnyQoiT\nppTCarVitVqZOHFizL7zzjuP1atXx1wFuFyuyHLPW7ZsYdeuXZHnGwwGJkyYwI033gjAjh070FpH\nTgJSK+DkSJAXQiSN2WymtLQ04T2Ga665Jm6d9Oie/MaNG2lubo48zs3NZcaMGaxduxYInQTCFZTy\n8/OlVsAAkhbklVLzgf8CcgA/8A2t9aZkvZ8QIrOE65zabDaqqqri9t90001xC8OFU0i11jz99NOR\nrKBwrYD58+ezYsUKIFQxLFxHNVW1AtJBMnvyPwf+r9b6f5VSF/Y9XpXE9xMZyu/upeaJ39Dw1xcx\nmLKo+tw1TLv4RpQhdny2t6WBpq1vY8rNo3zBOZhy81LUYjESsrOzj1kr4Otf/3pMhaS2trbI2uoe\nj4dHH3008lyr1YrdHlrZc86cOQQCAerr63E4HEmpFZBOkhnkNVDQ93cbcCiJ7yUy2N/+fR3t+7YR\n9HkB2PXUPfS2NDDvph9HnrP/lUfZ/sjPQYEyGNn23z9h2V0PUTh5VopaLVJJKUVhYWHM5LBoJpOJ\ndevWxdVMDWcTtrW18dBDDwGhmgOFhYWRYjFVVVV4vV46OztHRUpo0lIolVKnAi8DCjAAy7TWtQme\ntw5YB1BZWbmgtjbuKWIU66it4d1//hIBrytmuyHLzHn3vkuWJR93ewuv3bomchIIs46fzNn/8eJI\nNleMEh6Ph7q6urjhoM997nNMmzaNPXv28Kc//QmAgoKCyM3fM888k5KSEjweD36/H4vFkhZXAUlL\noVRKvQYkupa6CzgHuE1r/aRS6irgAWBN/ydqre8H7odQnvxQ2jOW6WCAvS/+kQOvPU7Q72PC8kuo\nvuIbGM3pnZHgOnIYlSBtThmMeDpaybLkc2T731HGLOgX5Hua6/F2OTHn2wFwt7fQ8NcX8PV0UHba\nauzT5o7IZxCZJzs7m2nTpg24v6ysjCuuuCLmJLB3716WLFkCwPbt23n22WfjFoc788wzycvLw+v1\nYjQa0yIldEhBXmsdF7TDlFIPA7f2PXwC+MNQ3ksc2ycP/Sv17z5DwOMGYN//PkzH/u0svfOBFLfs\n2Aqnzibo98ZtN5iysJSEltM1W20k6ispFIa+k1jbro94/99uRgf8BP0+9r7w30w+71pmXnN7Mpsv\nRqn8/Hzmzh24kzBx4kTOP//8yEngyJEj7N69m+XLlwPw3nvv8fbbb0du/IZPAkuXLsVoNBIIBEbs\nBJDMwaZDwFnAm8DZwO4kvteY5uvppO7tDTHDGUGfh7adW+hq2Et+xdQUtu7YcgpLmH7ZP7D7mfsJ\n+DwoZUCZsph7879gMIXqphbPXoop14rf4wIdWmTLYM6mYskFmLJz0Vrz0X/dScDdG3ndgNfNvpf+\nh8pVn8daXpWKjyZGsZKSEkpKSmK2RQ99RxeLaWtro6amBq/Xy5lnngnA888/z44dO2JmAxcXFzN/\n/vzIaw3XMFAyg/zXgN8opUyAm75xdzH83O0tKKMpbjhDGU30tjSkdZAHmH751ymevZSG91/EaM5h\n4orLyK84WnzbYDSx/MeP8NF/3UlrzYcYTCYmrljL7OvvAiDg7qW3uT7udZXBQGvNBxLkxYiIDsqT\nJk1i0qRJMft9Pl/kOdOmTcNkMuF0OiO1AsIpoACPPvoora2tcXUCpk4d/LGctCCvtX4XWJCs1xdH\nWUonJjzrB33ejMk+cZwyH8cp8wfcbymp4Mx/ephgwB/q7UdNfDGYszFkmQl4Ym/eKmUgx16WtDYL\nMRhZWVmRv8+aNYtZs44em8FgMFIPAEJXAmazGafTyaefforL5WLy5MmRIP/ggw8SDAYjVwHHktm5\nQQIAY5aZOV/9EZ888M8EfF7QGqM5m2mXfo1sW1HS3//wB69R88R/4m5vpqh6AbOu/UfyyiqT8l4G\nY/xX1mA0Mfm8a9n/8p8igV4ZTZjzCymZsywp7RBiOBkMBvLyjs77WLp0acx+l8uF13v0Sr28vJyW\nlhbq6uqoqak55mvLKpSjSMfBndS9+RQBv5cJyy6maEbyL6QOf/AaW373fQLe0A1flIEsSz7n/Ool\nzNbEOczJoINB9jz/APv+92H8nl7K5q1k9ld+SE5hyfF/WYgMFgwGMRqNstSwSI6Nd1xCV/2emG0G\ncw6nXvVdpl74lRS1Soix5Vh58rKijxgSt7M5blvQ66a3uS4FrRFC9CdBXgyJY/pp0O+mrzHbQtHM\nxSlqkRAimgR5MSSzrv0BWbn5GLJCC0MZsy0UTp1N+cJzUtwyIQRIdo0YImt5FWf/8iXq3t5AT3Md\nJbOXMm7B2XErSGYiHQxS/95z1L/7HKYcC5PPu5ZiuUIRGUaCvEhIBwPUvfsc9e88gyknj8nnfZmS\n2UsTPje7wM60i28c4RYm35Z77qDxwzciaZnNH7/DrOt/SNXZX0hxy4Q4cRLkRUJbfncHjVs2RgJc\ny7b3mHXtP1K15ospbtnI6GrYx+EPXiPo80S2BbxuPnvk51SuvCyy5IIQ6U7G5EWcroZ9HP7w9ZgZ\npAGvm88e+wVBvy+FLRs5nQdrQktF9KMDfjwdrSlokRAnR4K8iNNZtxNlGCjAHUlBi0ZefsU0CAbi\ndxgMZNscI98gIU6SBHkRJ79i6jECXPKXSUgHBZXTKZ51Rsx6/MbsXKo//y0MprFbL1Rknowfk/d2\nt7Pjz7+m8cPXMeXmM+2Sm6g864q0qNaSqQomTqdkzjJatv01slyBMTuX6iu/PaYC3KLb7ubAa49T\n984zmHIsTLngK5IaKjJORi9roIMBNt5xKT1NdehAaKzYmJ3L9Cu+wSmX3JysZo4JQb+P2tf/Qt27\nz4YC3PnXM27B6lQ3SwiRQNLK/6Vay7b3cbc1RQI8QMDjYvfT9zHtohtjlqMVg2MwZTH5vC8z+bwv\np7opQoghyOgo2NtSTzDB2HHA4yIQlfomhBBjVUYHefv00xLW/swtLk/7AtZCCDESMjrI2yqrGb/0\nQozZuQAokwljdi7zvvavcuM1TQT9XlytjQmLdQshki+jx+QB5q/7CRVLzufwplfJyrczafXnk1aV\nSAzO/lcfY8fjv0AHAmAwcOpVtzLl/OtT3SwhxpSMD/JKKUrnraB03opUN0VEad72Hp898vOjFaOA\nHX/+NXllkyg77awUtkyIsSWjh2tE+tr/0p9iAjyEbojve+nhFLVIiLFJgrxICr+7Z4DtvSPcEiHG\nNgnyIikmrlgbuSEeZjTnMGHF2hS1SIixSYK8SIqJKy+jbP5ZGMzZGHPyMJhzKJl7JpNWX5nqpgkx\npmT8jVeRnpTByMJbf0VX/R4663aRP2EaBROnp7pZQow5EuRFUuVPmEb+hGmpboYQY5YM1wghxCgm\nQV4IIUYxCfJCpAmtNb1HDuEeI9W3xMiQMXmRMXQwgKejlSxrIcas0VW8pKt+D5t+9R1cRw6B1thP\nmcfCW39DdoE91U0TGU568iIjNPz9ZV7++gpe++65vLRuCTVP/o50KngzFMGAn7/+9Kv0HD5A0Och\n6PfStusjNv/mu6lumhgFJMiLtNdRW8PWe3+At8tJ0Och4HGx9/kHqHtrQ6qbNixad3zQtwTE0ZOW\nDvhx7v4IT0dr6homRgUZrhFpr/aNJ+KWKg54XGx/7D9ordlM+eLPUXbaqoxdXjro80CiygjKQNDv\ni98uxCBIT16kPZ+rCx0Mxm/vclL39gY+vPt2tt53VwpaNjyKTl2c4PMpLCUV5BaNS0mbxOgxpCCv\nlPqCUmq7UiqolFrYb9+dSqk9SqmdSqnzhtZMMZZVLLkgbh2caAGPi4b3X6Tz4K4RbNXA3M5m9r/6\nGAde//MJDbeYciwsuu0/MeZYMOVaMeXkkV1YxKLb7h6B1orRTg3l5pVS6lQgCNwHfE9rvblv+0zg\nMWAxMB54DZiutY4vyBpl4cKFevPmzSfdHjE6aa355MH/S93bT6OMRgIDrGRZuerzzF/3kxFuXaxD\nm15lyz13AEcHYBZ+9zeUzV953N/1e1y07vgAozkHR/XpGIwymipOjFLqQ631wkT7htST11rv0Frv\nTLBrLfC41tqjtd4P7CEU8IUYNKUU8276Mav+7Wnm3fhjDObshM+rf/e5AZc4HgkBr5uP/usHBL1u\ngl43gb6fD3/7vRMaWzdl51I2fyXFMxdLgBfDJllj8hVAXdTj+r5tcZRS65RSm5VSm1taWpLUHDEa\nWMurmLD8Eiadc3XC/YYsM86920a4VUe17/sUpRIcUsEgnXXpMZQkxp7jBnml1GtKqU8T/AzLwuBa\n6/u11gu11gtLSkqG4yXFcehggEN/e4kPf/s9Pv3Tv9PdWJvqJg3KtItuRCXo6Qb9PrLzHSloUYg5\n344O+OO2BwN+zNbCFLRIiBNIodRarzmJ120AJkY9ntC3TaSY1ppNv/wOR7a/T8DjQhlN1L7+Z5bc\ncR9Fpy5KdfNOSK6jjOzCEtyth2O264CfvPKq1DQKyK+YSv7E6XTU7kD3Dc8oUxaOU+ZjKUl4IStE\n0iVruOZZ4ItKqWyl1GTgFGBTkt5LDELbro8iAR5CgTHgcfHxAz9ObcMGIRjwJ8xaMZizafrozZFv\nUJQl/3gf404/G2U0oYwmxi8+l0X/57cpbZMY24Z0d0cpdTlwN1ACvKCU2qq1Pk9rvV0p9RfgM8AP\nfPN4mTViZDj3fEzQHz+k0H1oHzoYRBnSf+qEDvghmODrFNT4uttHvkFRzNZCFn3316G8d6UydoKW\nGD2Gml2zQWs9QWudrbUu01qfF7Xvp1rrqVrraq31/w69qWI45JVVYkiwuFe2rSgjAjyEasUWVFbT\nf5ao1kFK5pyZmkb1owwGCfAiLWTGUS2GTdlpZ5FTWIwyZkW2GbNzmXHVrSls1eCd/o1/JyuvAFNf\n/VhDVjYzrrpVxr6F6GdIk6GGm0yGGhne7nZ2rv8tjR++gbnAwSlr1zF+8bmpbtag+T0umj58A29P\nJ6XzVpBXOiHVTRIiJY41GUqCvBg2Qb+XI9s3EfR7KZ51BqacvFQ3SYgx4VhBXqbViWHReXAXf/3p\nV/tWi1ToYIBFt91N6dz0GCMXYqySIC+GTGvNpl99G2+XM2b7B7/8FhNWrMWYlc3ElWuxVc1MUQuF\nGLskyIsh621pwO1sitse8Lqpff0voBQH3vgLc75yF5NWX5mCFgoxdkl2jRgyozkbggPd29GggwS9\nbj59+Gf4+yZhCSFGhgR5MWQ5hSUUTpubcD2ZaMpgpOfw/hFqlRACJMiLYbLou/9J0YyFGExZKFMW\nicrZBf1ecuxlI984IcYwGZMXwyK7wM6yux4KFdsO+Pn4Dz+iZdv7ffVLwWDOYfzic8m2FaW4pUKM\nLRLkxbAy59sBWHjrb9i14V7q3t6AMhiZdPYXmHbJzSlunRBjj0yGEkKIDJe08n9CCCHSmwR5IYQY\nxSTICyHEKCZBXgghRjEJ8kIIMYpJkBdCiFEsrVIolVItQC1QDBxJcXOGItPbD/IZ0oV8hvSQ7p9h\nkta6JNGOtAryYUqpzQPlfGaCTG8/yGdIF/IZ0kMmfwYZrhFCiFFMgrwQQoxi6Rrk7091A4Yo09sP\n8hnShXyG9JCxnyEtx+SFEEIMj3TtyQshhBgGEuSFEGIUS7sgr5QyKqU+Uko9n+q2nAyl1AGl1Dal\n1FalVEaum6yUKlRKrVdK1Sildiillqa6TYOhlKru+/cP/3Qqpb6b6nYNllLqNqXUdqXUp0qpx5RS\nOalu02AppW7ta//2TPk/UEo9qJRqVkp9GrXNoZR6VSm1u+9PeyrbOBhpF+SBW4EdqW7EEK3WWs/P\n1Lxa4DfAS1rrGcA8Muz/Q2u9s+/ffz6wAOgFNqS4WYOilKoAvgMs1FrPBozAF1PbqsFRSs0GvgYs\nJvQ9ulgpNS21rToh/w2c32/bD4DXtdanAK/3Pc4IaRXklVITgIuAP6S6LWOVUsoGrAQeANBae7XW\n7alt1ZCcA+zVWtemuiEnwQTkKqVMgAU4lOL2DNapwN+11r1aaz/wFnBFitt0XFrrt4G2fpvXAn/s\n+/sfgctGtFFDkFZBHvg1cAcQTHVDhkADryilPlRKrUt1Y07CZKAFeKhv2OwPSqm8VDdqCL4IPJbq\nRgyW1roB+A/gIHAY6NBav5LaVg3ap8AKpVSRUsoCXAhMTHGbTlaZ1vpw398bgYypSJ82QV4pdTHQ\nrLX+MNVtGaLlWuvTgQuAbyqlVqa6QYNkAk4H7tVanwb0kEGXptGUUmbgUuCJVLdlsPrGfNcSOumO\nB/KUUtemtlWDo7XeAfw78ArwErAVCKS0UcNAh/LOMyb3PG2CPHAmcKlS6gDwOHC2UupPqW3S4PX1\nwNBaNxMaB16c2hYNWj1Qr7X+e9/j9YSCfia6ANiitW5KdUNOwhpgv9a6RWvtA54ClqW4TYOmtX5A\na71Aa70ScAK7Ut2mk9SklCoH6PuzOcXtOWFpE+S11ndqrSdorasIXWK/obXOqJ6LUipPKZUf/jtw\nLqFL1oyhtW4E6pRS1X2bzgE+S2GThuIaMnCops9BYIlSyqKUUoT+HzLqBjiAUqq0789KQuPxj6a2\nRSftWeArfX//CvBMCtsyKKZUN2CUKQM2hI5JTMCjWuuXUtukk/Jt4JG+4Y59wA0pbs+g9Z1kPwfc\nkuq2nAyt9d+VUuuBLYAf+IjMnFr/pFKqCPAB38yEm/hKqceAVUCxUqoe+Gfg34C/KKVuIrQc+lWp\na+HgyLIGQggxiqXNcI0QQojhJ0FeCCFGMQnyQggxikmQF0KIUUyCvBBCjGIS5IUQYhSTIC+EEKPY\n/we/GGrJWMYMMwAAAABJRU5ErkJggg==\n",
            "text/plain": [
              "<Figure size 432x288 with 1 Axes>"
            ]
          },
          "metadata": {
            "tags": []
          }
        }
      ]
<<<<<<< HEAD
    },
    {
      "cell_type": "code",
      "metadata": {
        "id": "rTdgqro_GPyc",
        "colab_type": "code",
        "colab": {}
      },
      "source": [
        ""
      ],
      "execution_count": 0,
      "outputs": []
=======
>>>>>>> 64b7232506b476033b3fc763e74fcc2da2e15848
    }
  ]
}