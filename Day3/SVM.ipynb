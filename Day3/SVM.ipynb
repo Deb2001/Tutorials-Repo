{
  "nbformat": 4,
  "nbformat_minor": 0,
  "metadata": {
    "colab": {
      "name": "SVM.ipynb",
      "provenance": [],
      "collapsed_sections": []
    },
    "kernelspec": {
      "name": "python3",
      "display_name": "Python 3"
    }
  },
  "cells": [
    {
      "cell_type": "markdown",
      "metadata": {
        "id": "MhdidqPPrLrq",
        "colab_type": "text"
      },
      "source": [
        "IMPORTING THE NECESSARY LIBRARIES"
      ]
    },
    {
      "cell_type": "code",
      "metadata": {
        "id": "7GJg5v-tA7wR",
        "colab_type": "code",
        "colab": {
          "base_uri": "https://localhost:8080/",
          "height": 52
        },
        "outputId": "571b2249-554e-4f00-bcdf-da47e060abeb"
      },
      "source": [
        "import numpy as np\n",
        "import pandas as pd\n",
        "import matplotlib.pyplot as plt\n",
        "import seaborn as sns\n",
        "from sklearn import datasets\n",
        "%matplotlib inline\n",
        "from sklearn.utils import shuffle\n",
        "from sklearn import svm\n",
        "from sklearn.metrics import accuracy_score"
      ],
      "execution_count": 1,
      "outputs": [
        {
          "output_type": "stream",
          "text": [
            "/usr/local/lib/python3.6/dist-packages/statsmodels/tools/_testing.py:19: FutureWarning: pandas.util.testing is deprecated. Use the functions in the public API at pandas.testing instead.\n",
            "  import pandas.util.testing as tm\n"
          ],
          "name": "stderr"
        }
      ]
    },
    {
      "cell_type": "markdown",
      "metadata": {
        "id": "jMOd6_R6raL6",
        "colab_type": "text"
      },
      "source": [
        "IMPORTING AND HAVING A LOOK INTO THE DATA"
      ]
    },
    {
      "cell_type": "code",
      "metadata": {
        "id": "2dd8fIKOCkBb",
        "colab_type": "code",
        "outputId": "76c310b5-3658-4a18-ac5e-bd0a87be82ac",
        "colab": {
          "base_uri": "https://localhost:8080/",
          "height": 206
        }
      },
      "source": [
        "data = \"http://archive.ics.uci.edu/ml/machine-learning-databases/balance-scale/balance-scale.data\"\n",
        "columns = [\"class\", \"leftweight\", \"leftdistance\", \"rightweight\", \"rightdistance\"]\n",
        "df_balance = pd.read_csv(data)\n",
        "df_balance.columns = columns\n",
        "df_balance.head()"
      ],
      "execution_count": 2,
      "outputs": [
        {
          "output_type": "execute_result",
          "data": {
            "text/html": [
              "<div>\n",
              "<style scoped>\n",
              "    .dataframe tbody tr th:only-of-type {\n",
              "        vertical-align: middle;\n",
              "    }\n",
              "\n",
              "    .dataframe tbody tr th {\n",
              "        vertical-align: top;\n",
              "    }\n",
              "\n",
              "    .dataframe thead th {\n",
              "        text-align: right;\n",
              "    }\n",
              "</style>\n",
              "<table border=\"1\" class=\"dataframe\">\n",
              "  <thead>\n",
              "    <tr style=\"text-align: right;\">\n",
              "      <th></th>\n",
              "      <th>class</th>\n",
              "      <th>leftweight</th>\n",
              "      <th>leftdistance</th>\n",
              "      <th>rightweight</th>\n",
              "      <th>rightdistance</th>\n",
              "    </tr>\n",
              "  </thead>\n",
              "  <tbody>\n",
              "    <tr>\n",
              "      <th>0</th>\n",
              "      <td>R</td>\n",
              "      <td>1</td>\n",
              "      <td>1</td>\n",
              "      <td>1</td>\n",
              "      <td>2</td>\n",
              "    </tr>\n",
              "    <tr>\n",
              "      <th>1</th>\n",
              "      <td>R</td>\n",
              "      <td>1</td>\n",
              "      <td>1</td>\n",
              "      <td>1</td>\n",
              "      <td>3</td>\n",
              "    </tr>\n",
              "    <tr>\n",
              "      <th>2</th>\n",
              "      <td>R</td>\n",
              "      <td>1</td>\n",
              "      <td>1</td>\n",
              "      <td>1</td>\n",
              "      <td>4</td>\n",
              "    </tr>\n",
              "    <tr>\n",
              "      <th>3</th>\n",
              "      <td>R</td>\n",
              "      <td>1</td>\n",
              "      <td>1</td>\n",
              "      <td>1</td>\n",
              "      <td>5</td>\n",
              "    </tr>\n",
              "    <tr>\n",
              "      <th>4</th>\n",
              "      <td>R</td>\n",
              "      <td>1</td>\n",
              "      <td>1</td>\n",
              "      <td>2</td>\n",
              "      <td>1</td>\n",
              "    </tr>\n",
              "  </tbody>\n",
              "</table>\n",
              "</div>"
            ],
            "text/plain": [
              "  class  leftweight  leftdistance  rightweight  rightdistance\n",
              "0     R           1             1            1              2\n",
              "1     R           1             1            1              3\n",
              "2     R           1             1            1              4\n",
              "3     R           1             1            1              5\n",
              "4     R           1             1            2              1"
            ]
          },
          "metadata": {
            "tags": []
          },
          "execution_count": 2
        }
      ]
    },
    {
      "cell_type": "markdown",
      "metadata": {
        "id": "aDCFcUeBCC-e",
        "colab_type": "text"
      },
      "source": [
        "## Train Test Split"
      ]
    },
    {
      "cell_type": "markdown",
      "metadata": {
        "id": "JnroglKNriGm",
        "colab_type": "text"
      },
      "source": [
        "FUNCTION FOR SPLITTING THE DATA INTO TRAINING AND TESTING SET"
      ]
    },
    {
      "cell_type": "code",
      "metadata": {
        "id": "ru1pO96V6Hcv",
        "colab_type": "code",
        "colab": {}
      },
      "source": [
        "def train_test_split(X, y=None, split_ratio=0.3, random_state=123, stype=\"separate\"):\n",
        "  np.random.seed(random_state)\n",
        "  if stype==\"separate\":\n",
        "    split = np.random.rand(X.shape[0]) < split_ratio\n",
        "    return X[~split], X[split], y[~split], y[split]\n",
        "  elif stype==\"whole\":\n",
        "    split = np.random.rand(X.shape[0]) < split_ratio\n",
        "    return X[~split], X[split] "
      ],
      "execution_count": 0,
      "outputs": []
    },
    {
      "cell_type": "markdown",
      "metadata": {
        "id": "Bt_-EBXerq1U",
        "colab_type": "text"
      },
      "source": [
        "FUNCTION TO FIND THE CORRELATED FEATURES AND REMOVE THOSE HAVING CORRELATION VALUE GREATER THAN A CERTAIN THRESHOLD"
      ]
    },
    {
      "cell_type": "code",
      "metadata": {
        "id": "6xhvjZOPcDyx",
        "colab_type": "code",
        "colab": {}
      },
      "source": [
        "# >> FEATURE Handling << #\n",
        "def remove_correlated_features(X):\n",
        "    corr_threshold = 0.9\n",
        "    corr = X.corr()\n",
        "    drop_columns = np.full(corr.shape[0], False, dtype=bool)\n",
        "    for i in range(corr.shape[0]):\n",
        "        for j in range(i + 1, corr.shape[0]):\n",
        "            if corr.iloc[i, j] >= corr_threshold:\n",
        "                drop_columns[j] = True\n",
        "    columns_dropped = X.columns[drop_columns]\n",
        "    X.drop(columns_dropped, axis=1, inplace=True)\n",
        "    return columns_dropped"
      ],
      "execution_count": 0,
      "outputs": []
    },
    {
      "cell_type": "code",
      "metadata": {
        "id": "mha7YknjLQ9D",
        "colab_type": "code",
        "colab": {}
      },
      "source": [
        "def remove_less_significant_features(X, Y):\n",
        "    sl = 0.05\n",
        "    regression_ols = None\n",
        "    columns_dropped = np.array([])\n",
        "    for itr in range(0, len(X.columns)):\n",
        "        regression_ols = sm.OLS(Y, X).fit()\n",
        "        max_col = regression_ols.pvalues.idxmax()\n",
        "        max_val = regression_ols.pvalues.max()\n",
        "        if max_val > sl:\n",
        "            X.drop(max_col, axis='columns', inplace=True)\n",
        "            columns_dropped = np.append(columns_dropped, [max_col])\n",
        "        else:\n",
        "            break\n",
        "    regression_ols.summary()\n",
        "    return columns_dropped\n"
      ],
      "execution_count": 0,
      "outputs": []
    },
    {
      "cell_type": "markdown",
      "metadata": {
        "id": "eaIHrMK0sHe-",
        "colab_type": "text"
      },
      "source": [
        "![alt text](https://drive.google.com/uc?id=1CjZXVClvg1UQzcB_44JjA2frUsCln_8l)"
      ]
    },
    {
      "cell_type": "code",
      "metadata": {
        "id": "nwpV5PPFLXDc",
        "colab_type": "code",
        "colab": {}
      },
      "source": [
        "# >> MODEL TRAINING << #\n",
        "def compute_cost(W, X, Y):\n",
        "    # calculate hinge loss\n",
        "    N = X.shape[0]\n",
        "    distances = 1 - Y * (np.dot(X, W))\n",
        "    distances[distances < 0] = 0  # equivalent to max(0, distance)\n",
        "    hinge_loss = regularization_strength * (np.sum(distances) / N)\n",
        "\n",
        "    # calculate cost\n",
        "    cost = 1 / 2 * np.dot(W, W) + hinge_loss\n",
        "    return cost"
      ],
      "execution_count": 0,
      "outputs": []
    },
    {
      "cell_type": "code",
      "metadata": {
        "id": "FCqEQsrBLYr9",
        "colab_type": "code",
        "colab": {}
      },
      "source": [
        "# vanilla and mini-batch gradient descent \n",
        "def calculate_cost_gradient(W, X_batch, Y_batch):\n",
        "    # if only one example is passed (eg. in case of SGD)\n",
        "    if type(Y_batch) == np.float64:\n",
        "        Y_batch = np.array([Y_batch])\n",
        "        X_batch = np.array([X_batch])  # gives multidimensional array\n",
        "\n",
        "    distance = 1 - (Y_batch * np.dot(X_batch, W))\n",
        "    dw = np.zeros(len(W))\n",
        "\n",
        "    for ind, d in enumerate(distance):\n",
        "        if max(0, d) == 0:\n",
        "            di = W\n",
        "        else:\n",
        "            di = W - (regularization_strength * Y_batch[ind] * X_batch[ind])\n",
        "        dw += di\n",
        "\n",
        "    dw = dw/len(Y_batch)  # average\n",
        "    return dw"
      ],
      "execution_count": 0,
      "outputs": []
    },
    {
      "cell_type": "code",
      "metadata": {
        "id": "3_J3QUjfLxXl",
        "colab_type": "code",
        "colab": {}
      },
      "source": [
        "def sgd(features, outputs):\n",
        "    max_epochs = 5000\n",
        "    weights = np.zeros(features.shape[1])\n",
        "    nth = 0\n",
        "    prev_cost = float(\"inf\")\n",
        "    cost_threshold = 0.01  # in percent\n",
        "    # stochastic gradient descent\n",
        "    for epoch in range(1, max_epochs):\n",
        "        # shuffle to prevent repeating update cycles\n",
        "        X, Y = shuffle(features, outputs)\n",
        "        for ind, x in enumerate(X):\n",
        "            ascent = calculate_cost_gradient(weights, x, Y[ind])\n",
        "            weights = weights - (learning_rate * ascent)\n",
        "\n",
        "        # convergence check on 2^nth epoch\n",
        "        if epoch == 2 ** nth or epoch == max_epochs - 1:\n",
        "            cost = compute_cost(weights, features, outputs)\n",
        "            print(\"Epoch is: {} and Cost is: {}\".format(epoch, cost))\n",
        "            # stoppage criterion\n",
        "            if abs(prev_cost - cost) < cost_threshold * prev_cost:\n",
        "                return weights\n",
        "            prev_cost = cost\n",
        "            nth += 1\n",
        "    return weights"
      ],
      "execution_count": 0,
      "outputs": []
    },
    {
      "cell_type": "code",
      "metadata": {
        "id": "6cuxxKm_Ly7m",
        "colab_type": "code",
        "colab": {}
      },
      "source": [
        "def init():\n",
        "    print(\"reading dataset...\")\n",
        "    # train the model\n",
        "    print(\"training started...\")\n",
        "    W = sgd(X_train.to_numpy(), y_train.to_numpy())\n",
        "    print(\"training finished.\")\n",
        "    print(\"weights are: {}\".format(W))\n",
        "\n",
        "    # testing the model\n",
        "    print(\"testing the model...\")\n",
        "    y_train_predicted = np.array([])\n",
        "    for i in range(X_train.shape[0]):\n",
        "        yp = np.sign(np.dot(X_train.to_numpy()[i], W))\n",
        "        y_train_predicted = np.append(y_train_predicted, yp)\n",
        "\n",
        "    y_test_predicted = np.array([])\n",
        "    for i in range(X_test.shape[0]):\n",
        "        yp = np.sign(np.dot(X_test.to_numpy()[i], W))\n",
        "        y_test_predicted = np.append(y_test_predicted, yp)\n",
        "\n",
        "    print(\"accuracy on test dataset: {}\".format(accuracy_score(y_test, y_test_predicted)))\n"
      ],
      "execution_count": 0,
      "outputs": []
    },
    {
      "cell_type": "code",
      "metadata": {
        "id": "RXJufk4GWloi",
        "colab_type": "code",
        "colab": {}
      },
      "source": [
        "X = df_balance.iloc[:, 1:]\n",
        "y = df_balance[\"class\"]\n",
        "X_train, X_test, y_train, y_test = train_test_split(X, y)"
      ],
      "execution_count": 0,
      "outputs": []
    },
    {
      "cell_type": "code",
      "metadata": {
        "id": "FK6C3e0MNgcF",
        "colab_type": "code",
        "outputId": "2e539b92-8131-40fc-ff74-3ab48eac4abb",
        "colab": {
          "base_uri": "https://localhost:8080/",
          "height": 139
        }
      },
      "source": [
        "data = df_balance\n",
        "# convert categorical labels to numbers\n",
        "diag_map = {'R': 1.0, 'L': -1.0,'B': 0.0} #mapping of 3 classes\n",
        "data['class'] = data['class'].map(diag_map)\n",
        "\n",
        "# put features & outputs in different data frames\n",
        "X = df_balance.iloc[:, 1:]\n",
        "Y = df_balance[\"class\"]\n",
        "\n",
        "# filter features if required\n",
        "'''\n",
        "remove_correlated_features(X)\n",
        "remove_less_significant_features(X, Y)\n",
        "\n",
        "# normalize data for better convergence and to prevent overflow\n",
        "X_normalized = MinMaxScaler().fit_transform(X.values)\n",
        "X = pd.DataFrame(X_normalized)\n",
        "\n",
        "# insert 1 in every row for intercept b\n",
        "X.insert(loc=len(X.columns), column='intercept', value=1)\n",
        "'''\n",
        "# split data into train and test set\n",
        "print(\"splitting dataset into train and test sets...\")\n",
        "X_train, X_test, y_train, y_test = train_test_split(X, Y)\n",
        "print(X_train.head(5))"
      ],
      "execution_count": 11,
      "outputs": [
        {
          "output_type": "stream",
          "text": [
            "splitting dataset into train and test sets...\n",
            "   leftweight  leftdistance  rightweight  rightdistance\n",
            "0           1             1            1              2\n",
            "3           1             1            1              5\n",
            "4           1             1            2              1\n",
            "5           1             1            2              2\n",
            "6           1             1            2              3\n"
          ],
          "name": "stdout"
        }
      ]
    },
    {
      "cell_type": "code",
      "metadata": {
        "id": "n6XTf362WcTo",
        "colab_type": "code",
        "outputId": "940fc46f-d6a7-4aa3-8759-1b6a578707d2",
        "colab": {
          "base_uri": "https://localhost:8080/",
          "height": 260
        }
      },
      "source": [
        "# set hyper-parameters and call init\n",
        "regularization_strength = 10000\n",
        "learning_rate = 0.00001\n",
        "init()"
      ],
      "execution_count": 12,
      "outputs": [
        {
          "output_type": "stream",
          "text": [
            "reading dataset...\n",
            "training started...\n",
            "Epoch is: 1 and Cost is: 4575.9353547963\n",
            "Epoch is: 2 and Cost is: 2927.7502457916726\n",
            "Epoch is: 4 and Cost is: 4595.255615361734\n",
            "Epoch is: 8 and Cost is: 3229.8958593572684\n",
            "Epoch is: 16 and Cost is: 3189.6141965063875\n",
            "Epoch is: 32 and Cost is: 2574.885268433476\n",
            "Epoch is: 64 and Cost is: 2426.7952718226957\n",
            "Epoch is: 128 and Cost is: 2408.3071884751803\n",
            "training finished.\n",
            "weights are: [-5.15879553 -5.26966757  5.44174204  5.52199984]\n",
            "testing the model...\n",
            "accuracy on test dataset: 0.8707865168539326\n"
          ],
          "name": "stdout"
        }
      ]
    },
    {
      "cell_type": "markdown",
      "metadata": {
        "id": "wsNoke-oWdF6",
        "colab_type": "text"
      },
      "source": [
        "### Sklearn Model"
      ]
    },
    {
      "cell_type": "code",
      "metadata": {
        "id": "ky5iFzpdD9Nq",
        "colab_type": "code",
        "outputId": "aa78f750-f272-43ef-febd-8dcc1f4f3422",
        "colab": {
          "base_uri": "https://localhost:8080/",
          "height": 86
        }
      },
      "source": [
        "sk_svc = svm.SVC()\n",
        "sk_svc.fit(X_train, y_train)"
      ],
      "execution_count": 13,
      "outputs": [
        {
          "output_type": "execute_result",
          "data": {
            "text/plain": [
              "SVC(C=1.0, break_ties=False, cache_size=200, class_weight=None, coef0=0.0,\n",
              "    decision_function_shape='ovr', degree=3, gamma='scale', kernel='rbf',\n",
              "    max_iter=-1, probability=False, random_state=None, shrinking=True,\n",
              "    tol=0.001, verbose=False)"
            ]
          },
          "metadata": {
            "tags": []
          },
          "execution_count": 13
        }
      ]
    },
    {
      "cell_type": "code",
      "metadata": {
        "id": "9CXsZruqYqYa",
        "colab_type": "code",
        "outputId": "91f52d0a-216a-442c-d4e3-b2b0aa73df6f",
        "colab": {
          "base_uri": "https://localhost:8080/",
          "height": 34
        }
      },
      "source": [
        "y_pred = sk_svc.predict(X_test)\n",
        "print (\"Accuracy is \", accuracy_score(y_test,y_pred)*100)"
      ],
      "execution_count": 14,
      "outputs": [
        {
          "output_type": "stream",
          "text": [
            "Accuracy is  89.8876404494382\n"
          ],
          "name": "stdout"
        }
      ]
    },
    {
      "cell_type": "markdown",
      "metadata": {
        "id": "CQBakNrBt_u4",
        "colab_type": "text"
      },
      "source": [
        "VISUALIZING THE DATA"
      ]
    },
    {
      "cell_type": "code",
      "metadata": {
        "id": "IWjcX28Ik4rR",
        "colab_type": "code",
        "outputId": "67f6b62b-95ec-48c2-d85b-e31b627d4bbd",
        "colab": {
          "base_uri": "https://localhost:8080/",
          "height": 265
        }
      },
      "source": [
        "\n",
        "import numpy as np\n",
        "import matplotlib.pyplot as plt\n",
        "from sklearn import svm\n",
        "from sklearn.datasets import make_blobs\n",
        "\n",
        "\n",
        "# we create 40 separable points\n",
        "X, y = make_blobs(n_samples=40, centers=2, random_state=6)\n",
        "\n",
        "\n",
        "# fit the model, don't regularize for illustration purposes\n",
        "clf = svm.SVC(kernel='linear', C=1000)\n",
        "clf.fit(X, y)\n",
        "\n",
        "plt.scatter(X[:, 0], X[:, 1], c=y, s=30, cmap=plt.cm.Paired)\n",
        "\n",
        "# plot the decision function\n",
        "ax = plt.gca()\n",
        "xlim = ax.get_xlim()\n",
        "ylim = ax.get_ylim()\n",
        "\n",
        "# create grid to evaluate model\n",
        "xx = np.linspace(xlim[0], xlim[1], 30)\n",
        "yy = np.linspace(ylim[0], ylim[1], 30)\n",
        "YY, XX = np.meshgrid(yy, xx)\n",
        "xy = np.vstack([XX.ravel(), YY.ravel()]).T\n",
        "Z = clf.decision_function(xy).reshape(XX.shape)\n",
        "\n",
        "# plot decision boundary and margins\n",
        "ax.contour(XX, YY, Z, colors='k', levels=[-1, 0, 1], alpha=0.5,\n",
        "           linestyles=['--', '-', '--'])\n",
        "# plot support vectors\n",
        "ax.scatter(clf.support_vectors_[:, 0], clf.support_vectors_[:, 1], s=100,\n",
        "           linewidth=1, facecolors='none', edgecolors='k')\n",
        "plt.show()"
      ],
      "execution_count": 15,
      "outputs": [
        {
          "output_type": "display_data",
          "data": {
            "image/png": "[encoded data removed]",
            "text/plain": [
              "<Figure size 432x288 with 1 Axes>"
            ]
          },
          "metadata": {
            "tags": []
          }
        }
      ]
    },
    {
      "cell_type": "code",
      "metadata": {
        "id": "rTdgqro_GPyc",
        "colab_type": "code",
        "colab": {}
      },
      "source": [
        ""
      ],
      "execution_count": 0,
      "outputs": []
    }
  ]
}