{
  "nbformat": 4,
  "nbformat_minor": 0,
  "metadata": {
    "colab": {
      "name": "Naive Bayes.ipynb",
      "provenance": []
    },
    "kernelspec": {
      "name": "python3",
      "display_name": "Python 3"
    }
  },
  "cells": [
    {
      "cell_type": "code",
      "metadata": {
        "id": "2q4qZEFBi9mx",
        "colab_type": "code",
        "colab": {}
      },
      "source": [
        "import pandas as pd\n",
        "import numpy as np"
      ],
      "execution_count": 0,
      "outputs": []
    },
    {
      "cell_type": "code",
      "metadata": {
        "id": "RPBsDP8Ijawp",
        "colab_type": "code",
        "outputId": "717b96fd-1e01-4443-dbca-330fa714016a",
        "colab": {
          "base_uri": "https://localhost:8080/",
          "height": 296
        }
      },
      "source": [
        "# Create an empty dataframe\n",
        "data = pd.DataFrame()\n",
        "\n",
        "# Create our target variable\n",
        "data['Gender'] = ['male','male','male','male','female','female','female','female']\n",
        "\n",
        "# Create our feature variables\n",
        "data['Height'] = [6,5.92,5.58,5.92,5,5.5,5.42,5.75]\n",
        "data['Weight'] = [180,190,170,165,100,150,130,150]\n",
        "data['Foot_Size'] = [12,11,12,10,6,8,7,9]\n",
        "\n",
        "# View the data\n",
        "data"
      ],
      "execution_count": 0,
      "outputs": [
        {
          "output_type": "execute_result",
          "data": {
            "text/html": [
              "<div>\n",
              "<style scoped>\n",
              "    .dataframe tbody tr th:only-of-type {\n",
              "        vertical-align: middle;\n",
              "    }\n",
              "\n",
              "    .dataframe tbody tr th {\n",
              "        vertical-align: top;\n",
              "    }\n",
              "\n",
              "    .dataframe thead th {\n",
              "        text-align: right;\n",
              "    }\n",
              "</style>\n",
              "<table border=\"1\" class=\"dataframe\">\n",
              "  <thead>\n",
              "    <tr style=\"text-align: right;\">\n",
              "      <th></th>\n",
              "      <th>Gender</th>\n",
              "      <th>Height</th>\n",
              "      <th>Weight</th>\n",
              "      <th>Foot_Size</th>\n",
              "    </tr>\n",
              "  </thead>\n",
              "  <tbody>\n",
              "    <tr>\n",
              "      <th>0</th>\n",
              "      <td>male</td>\n",
              "      <td>6.00</td>\n",
              "      <td>180</td>\n",
              "      <td>12</td>\n",
              "    </tr>\n",
              "    <tr>\n",
              "      <th>1</th>\n",
              "      <td>male</td>\n",
              "      <td>5.92</td>\n",
              "      <td>190</td>\n",
              "      <td>11</td>\n",
              "    </tr>\n",
              "    <tr>\n",
              "      <th>2</th>\n",
              "      <td>male</td>\n",
              "      <td>5.58</td>\n",
              "      <td>170</td>\n",
              "      <td>12</td>\n",
              "    </tr>\n",
              "    <tr>\n",
              "      <th>3</th>\n",
              "      <td>male</td>\n",
              "      <td>5.92</td>\n",
              "      <td>165</td>\n",
              "      <td>10</td>\n",
              "    </tr>\n",
              "    <tr>\n",
              "      <th>4</th>\n",
              "      <td>female</td>\n",
              "      <td>5.00</td>\n",
              "      <td>100</td>\n",
              "      <td>6</td>\n",
              "    </tr>\n",
              "    <tr>\n",
              "      <th>5</th>\n",
              "      <td>female</td>\n",
              "      <td>5.50</td>\n",
              "      <td>150</td>\n",
              "      <td>8</td>\n",
              "    </tr>\n",
              "    <tr>\n",
              "      <th>6</th>\n",
              "      <td>female</td>\n",
              "      <td>5.42</td>\n",
              "      <td>130</td>\n",
              "      <td>7</td>\n",
              "    </tr>\n",
              "    <tr>\n",
              "      <th>7</th>\n",
              "      <td>female</td>\n",
              "      <td>5.75</td>\n",
              "      <td>150</td>\n",
              "      <td>9</td>\n",
              "    </tr>\n",
              "  </tbody>\n",
              "</table>\n",
              "</div>"
            ],
            "text/plain": [
              "   Gender  Height  Weight  Foot_Size\n",
              "0    male    6.00     180         12\n",
              "1    male    5.92     190         11\n",
              "2    male    5.58     170         12\n",
              "3    male    5.92     165         10\n",
              "4  female    5.00     100          6\n",
              "5  female    5.50     150          8\n",
              "6  female    5.42     130          7\n",
              "7  female    5.75     150          9"
            ]
          },
          "metadata": {
            "tags": []
          },
          "execution_count": 2
        }
      ]
    },
    {
      "cell_type": "code",
      "metadata": {
        "id": "ZK3n9GIgjc2i",
        "colab_type": "code",
        "outputId": "1fc0f05f-82fb-4b28-b3b5-397f5144995e",
        "colab": {
          "base_uri": "https://localhost:8080/",
          "height": 79
        }
      },
      "source": [
        "# Create an empty dataframe\n",
        "person = pd.DataFrame()\n",
        "\n",
        "# Create some feature values for this single row\n",
        "person['Height'] = [6]\n",
        "person['Weight'] = [130]\n",
        "person['Foot_Size'] = [8]\n",
        "\n",
        "# View the data \n",
        "person"
      ],
      "execution_count": 0,
      "outputs": [
        {
          "output_type": "execute_result",
          "data": {
            "text/html": [
              "<div>\n",
              "<style scoped>\n",
              "    .dataframe tbody tr th:only-of-type {\n",
              "        vertical-align: middle;\n",
              "    }\n",
              "\n",
              "    .dataframe tbody tr th {\n",
              "        vertical-align: top;\n",
              "    }\n",
              "\n",
              "    .dataframe thead th {\n",
              "        text-align: right;\n",
              "    }\n",
              "</style>\n",
              "<table border=\"1\" class=\"dataframe\">\n",
              "  <thead>\n",
              "    <tr style=\"text-align: right;\">\n",
              "      <th></th>\n",
              "      <th>Height</th>\n",
              "      <th>Weight</th>\n",
              "      <th>Foot_Size</th>\n",
              "    </tr>\n",
              "  </thead>\n",
              "  <tbody>\n",
              "    <tr>\n",
              "      <th>0</th>\n",
              "      <td>6</td>\n",
              "      <td>130</td>\n",
              "      <td>8</td>\n",
              "    </tr>\n",
              "  </tbody>\n",
              "</table>\n",
              "</div>"
            ],
            "text/plain": [
              "   Height  Weight  Foot_Size\n",
              "0       6     130          8"
            ]
          },
          "metadata": {
            "tags": []
          },
          "execution_count": 3
        }
      ]
    },
    {
      "cell_type": "code",
      "metadata": {
        "id": "FGPw7rSnjgUQ",
        "colab_type": "code",
        "colab": {}
      },
      "source": [
        "# Number of males\n",
        "n_male = data['Gender'][data['Gender'] == 'male'].count()\n",
        "\n",
        "# Number of males\n",
        "n_female = data['Gender'][data['Gender'] == 'female'].count()\n",
        "\n",
        "# Total rows\n",
        "total_ppl = data['Gender'].count()"
      ],
      "execution_count": 0,
      "outputs": []
    },
    {
      "cell_type": "code",
      "metadata": {
        "id": "jdyiar03jmOS",
        "colab_type": "code",
        "colab": {}
      },
      "source": [
        "# Number of males divided by the total rows\n",
        "P_male = n_male/total_ppl\n",
        "\n",
        "# Number of females divided by the total rows\n",
        "P_female = n_female/total_ppl"
      ],
      "execution_count": 0,
      "outputs": []
    },
    {
      "cell_type": "code",
      "metadata": {
        "id": "pIy5c96wjobS",
        "colab_type": "code",
        "outputId": "e20ca98b-fc81-45a6-b6be-2d194e1293ab",
        "colab": {
          "base_uri": "https://localhost:8080/",
          "height": 141
        }
      },
      "source": [
        "# Group the data by gender and calculate the means of each feature\n",
        "data_means = data.groupby('Gender').mean()\n",
        "\n",
        "# View the values\n",
        "data_means"
      ],
      "execution_count": 0,
      "outputs": [
        {
          "output_type": "execute_result",
          "data": {
            "text/html": [
              "<div>\n",
              "<style scoped>\n",
              "    .dataframe tbody tr th:only-of-type {\n",
              "        vertical-align: middle;\n",
              "    }\n",
              "\n",
              "    .dataframe tbody tr th {\n",
              "        vertical-align: top;\n",
              "    }\n",
              "\n",
              "    .dataframe thead th {\n",
              "        text-align: right;\n",
              "    }\n",
              "</style>\n",
              "<table border=\"1\" class=\"dataframe\">\n",
              "  <thead>\n",
              "    <tr style=\"text-align: right;\">\n",
              "      <th></th>\n",
              "      <th>Height</th>\n",
              "      <th>Weight</th>\n",
              "      <th>Foot_Size</th>\n",
              "    </tr>\n",
              "    <tr>\n",
              "      <th>Gender</th>\n",
              "      <th></th>\n",
              "      <th></th>\n",
              "      <th></th>\n",
              "    </tr>\n",
              "  </thead>\n",
              "  <tbody>\n",
              "    <tr>\n",
              "      <th>female</th>\n",
              "      <td>5.4175</td>\n",
              "      <td>132.50</td>\n",
              "      <td>7.50</td>\n",
              "    </tr>\n",
              "    <tr>\n",
              "      <th>male</th>\n",
              "      <td>5.8550</td>\n",
              "      <td>176.25</td>\n",
              "      <td>11.25</td>\n",
              "    </tr>\n",
              "  </tbody>\n",
              "</table>\n",
              "</div>"
            ],
            "text/plain": [
              "        Height  Weight  Foot_Size\n",
              "Gender                           \n",
              "female  5.4175  132.50       7.50\n",
              "male    5.8550  176.25      11.25"
            ]
          },
          "metadata": {
            "tags": []
          },
          "execution_count": 6
        }
      ]
    },
    {
      "cell_type": "code",
      "metadata": {
        "id": "ZMIlLoODjtbd",
        "colab_type": "code",
        "outputId": "ff174019-b1b2-4bee-ad36-a85236ad99c0",
        "colab": {
          "base_uri": "https://localhost:8080/",
          "height": 141
        }
      },
      "source": [
        "# Group the data by gender and calculate the variance of each feature\n",
        "data_variance = data.groupby('Gender').var()\n",
        "\n",
        "# View the values\n",
        "data_variance"
      ],
      "execution_count": 0,
      "outputs": [
        {
          "output_type": "execute_result",
          "data": {
            "text/html": [
              "<div>\n",
              "<style scoped>\n",
              "    .dataframe tbody tr th:only-of-type {\n",
              "        vertical-align: middle;\n",
              "    }\n",
              "\n",
              "    .dataframe tbody tr th {\n",
              "        vertical-align: top;\n",
              "    }\n",
              "\n",
              "    .dataframe thead th {\n",
              "        text-align: right;\n",
              "    }\n",
              "</style>\n",
              "<table border=\"1\" class=\"dataframe\">\n",
              "  <thead>\n",
              "    <tr style=\"text-align: right;\">\n",
              "      <th></th>\n",
              "      <th>Height</th>\n",
              "      <th>Weight</th>\n",
              "      <th>Foot_Size</th>\n",
              "    </tr>\n",
              "    <tr>\n",
              "      <th>Gender</th>\n",
              "      <th></th>\n",
              "      <th></th>\n",
              "      <th></th>\n",
              "    </tr>\n",
              "  </thead>\n",
              "  <tbody>\n",
              "    <tr>\n",
              "      <th>female</th>\n",
              "      <td>0.097225</td>\n",
              "      <td>558.333333</td>\n",
              "      <td>1.666667</td>\n",
              "    </tr>\n",
              "    <tr>\n",
              "      <th>male</th>\n",
              "      <td>0.035033</td>\n",
              "      <td>122.916667</td>\n",
              "      <td>0.916667</td>\n",
              "    </tr>\n",
              "  </tbody>\n",
              "</table>\n",
              "</div>"
            ],
            "text/plain": [
              "          Height      Weight  Foot_Size\n",
              "Gender                                 \n",
              "female  0.097225  558.333333   1.666667\n",
              "male    0.035033  122.916667   0.916667"
            ]
          },
          "metadata": {
            "tags": []
          },
          "execution_count": 7
        }
      ]
    },
    {
      "cell_type": "code",
      "metadata": {
        "id": "fqJ4X5pRjwFz",
        "colab_type": "code",
        "colab": {}
      },
      "source": [
        "# Means for male\n",
        "male_height_mean = data_means['Height'][data_variance.index == 'male'].values[0]\n",
        "male_weight_mean = data_means['Weight'][data_variance.index == 'male'].values[0]\n",
        "male_footsize_mean = data_means['Foot_Size'][data_variance.index == 'male'].values[0]\n",
        "\n",
        "# Variance for male\n",
        "male_height_variance = data_variance['Height'][data_variance.index == 'male'].values[0]\n",
        "male_weight_variance = data_variance['Weight'][data_variance.index == 'male'].values[0]\n",
        "male_footsize_variance = data_variance['Foot_Size'][data_variance.index == 'male'].values[0]\n",
        "\n",
        "# Means for female\n",
        "female_height_mean = data_means['Height'][data_variance.index == 'female'].values[0]\n",
        "female_weight_mean = data_means['Weight'][data_variance.index == 'female'].values[0]\n",
        "female_footsize_mean = data_means['Foot_Size'][data_variance.index == 'female'].values[0]\n",
        "\n",
        "# Variance for female\n",
        "female_height_variance = data_variance['Height'][data_variance.index == 'female'].values[0]\n",
        "female_weight_variance = data_variance['Weight'][data_variance.index == 'female'].values[0]\n",
        "female_footsize_variance = data_variance['Foot_Size'][data_variance.index == 'female'].values[0]"
      ],
      "execution_count": 0,
      "outputs": []
    },
    {
      "cell_type": "code",
      "metadata": {
        "id": "-6s98Z9Kj1ec",
        "colab_type": "code",
        "colab": {}
      },
      "source": [
        "# Create a function that calculates p(x | y):\n",
        "def p_x_given_y(x, mean_y, variance_y):\n",
        "\n",
        "    # Input the arguments into a probability density function\n",
        "    p = 1/(np.sqrt(2*np.pi*variance_y)) * np.exp((-(x-mean_y)**2)/(2*variance_y))\n",
        "    \n",
        "    # return p\n",
        "    return p"
      ],
      "execution_count": 0,
      "outputs": []
    },
    {
      "cell_type": "code",
      "metadata": {
        "id": "FQHLIE67j4g9",
        "colab_type": "code",
        "outputId": "b1c24409-e93d-411a-ee41-77414f6a6a51",
        "colab": {
          "base_uri": "https://localhost:8080/",
          "height": 34
        }
      },
      "source": [
        "# Numerator of the posterior if the unclassified observation is a male\n",
        "P_male * \\\n",
        "p_x_given_y(person['Height'][0], male_height_mean, male_height_variance) * \\\n",
        "p_x_given_y(person['Weight'][0], male_weight_mean, male_weight_variance) * \\\n",
        "p_x_given_y(person['Foot_Size'][0], male_footsize_mean, male_footsize_variance)"
      ],
      "execution_count": 0,
      "outputs": [
        {
          "output_type": "execute_result",
          "data": {
            "text/plain": [
              "6.197071843878078e-09"
            ]
          },
          "metadata": {
            "tags": []
          },
          "execution_count": 10
        }
      ]
    },
    {
      "cell_type": "code",
      "metadata": {
        "id": "TaSUDvPej7Zx",
        "colab_type": "code",
        "outputId": "2e2badca-0c85-4164-a40d-ba4451873587",
        "colab": {
          "base_uri": "https://localhost:8080/",
          "height": 34
        }
      },
      "source": [
        "# Numerator of the posterior if the unclassified observation is a female\n",
        "P_female * \\\n",
        "p_x_given_y(person['Height'][0], female_height_mean, female_height_variance) * \\\n",
        "p_x_given_y(person['Weight'][0], female_weight_mean, female_weight_variance) * \\\n",
        "p_x_given_y(person['Foot_Size'][0], female_footsize_mean, female_footsize_variance)"
      ],
      "execution_count": 0,
      "outputs": [
        {
          "output_type": "execute_result",
          "data": {
            "text/plain": [
              "0.0005377909183630018"
            ]
          },
          "metadata": {
            "tags": []
          },
          "execution_count": 11
        }
      ]
    },
    {
      "cell_type": "markdown",
      "metadata": {
        "id": "X7LeM53ksHQg",
        "colab_type": "text"
      },
      "source": [
        "Scikit Learn Example"
      ]
    },
    {
      "cell_type": "code",
      "metadata": {
        "id": "84jEMz12j-7-",
        "colab_type": "code",
        "outputId": "720f35ef-4a01-4d01-8fb6-10a77f175d30",
        "colab": {
          "base_uri": "https://localhost:8080/",
          "height": 34
        }
      },
      "source": [
        "from sklearn.datasets import load_iris\n",
        "from sklearn.model_selection import train_test_split\n",
        "from sklearn.naive_bayes import GaussianNB\n",
        "X, y = load_iris(return_X_y=True)\n",
        "X_train, X_test, y_train, y_test = train_test_split(X, y, test_size=0.5, random_state=0)\n",
        "gnb = GaussianNB()\n",
        "y_pred = gnb.fit(X_train, y_train).predict(X_test)\n",
        "print(\"Number of mislabeled points out of a total %d points : %d\"\n",
        "      % (X_test.shape[0], (y_test != y_pred).sum()))"
      ],
      "execution_count": 0,
      "outputs": [
        {
          "output_type": "stream",
          "text": [
            "Number of mislabeled points out of a total 75 points : 4\n"
          ],
          "name": "stdout"
        }
      ]
    },
    {
      "cell_type": "code",
      "metadata": {
        "id": "9CbuW2H-tFFS",
        "colab_type": "code",
        "outputId": "21752d54-ab1e-40c0-ee01-02fc89401bc3",
        "colab": {
          "base_uri": "https://localhost:8080/",
          "height": 34
        }
      },
      "source": [
        "from sklearn.datasets import load_iris\n",
        "from sklearn.model_selection import train_test_split\n",
        "from sklearn.naive_bayes import BernoulliNB\n",
        "X, y = load_iris(return_X_y=True)\n",
        "X_train, X_test, y_train, y_test = train_test_split(X, y, test_size=0.5, random_state=0)\n",
        "gnb = BernoulliNB()\n",
        "y_pred = gnb.fit(X_train, y_train).predict(X_test)\n",
        "print(\"Number of mislabeled points out of a total %d points : %d\"\n",
        "      % (X_test.shape[0], (y_test != y_pred).sum()))"
      ],
      "execution_count": 0,
      "outputs": [
        {
          "output_type": "stream",
          "text": [
            "Number of mislabeled points out of a total 75 points : 54\n"
          ],
          "name": "stdout"
        }
      ]
    },
    {
      "cell_type": "code",
      "metadata": {
        "id": "o6xkKTOUtxHC",
        "colab_type": "code",
        "outputId": "2d0464b8-1a68-440c-92a2-412107de1950",
        "colab": {
          "base_uri": "https://localhost:8080/",
          "height": 34
        }
      },
      "source": [
        "from sklearn.datasets import load_iris\n",
        "from sklearn.model_selection import train_test_split\n",
        "from sklearn.naive_bayes import MultinomialNB\n",
        "X, y = load_iris(return_X_y=True)\n",
        "X_train, X_test, y_train, y_test = train_test_split(X, y, test_size=0.5, random_state=0)\n",
        "gnb = MultinomialNB()\n",
        "y_pred = gnb.fit(X_train, y_train).predict(X_test)\n",
        "print(\"Number of mislabeled points out of a total %d points : %d\"\n",
        "      % (X_test.shape[0], (y_test != y_pred).sum()))"
      ],
      "execution_count": 0,
      "outputs": [
        {
          "output_type": "stream",
          "text": [
            "Number of mislabeled points out of a total 75 points : 30\n"
          ],
          "name": "stdout"
        }
      ]
    },
    {
      "cell_type": "code",
      "metadata": {
        "id": "OHITE4vmt98Y",
        "colab_type": "code",
        "colab": {}
      },
      "source": [
        ""
      ],
      "execution_count": 0,
      "outputs": []
    }
  ]
}